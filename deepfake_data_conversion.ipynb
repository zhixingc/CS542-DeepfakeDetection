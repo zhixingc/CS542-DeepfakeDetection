{
  "nbformat": 4,
  "nbformat_minor": 0,
  "metadata": {
    "colab": {
      "name": "deepfake_data_conversion.ipynb",
      "provenance": [],
      "collapsed_sections": [],
      "include_colab_link": true
    },
    "kernelspec": {
      "name": "python3",
      "display_name": "Python 3"
    }
  },
  "cells": [
    {
      "cell_type": "markdown",
      "metadata": {
        "id": "view-in-github",
        "colab_type": "text"
      },
      "source": [
        "<a href=\"https://colab.research.google.com/github/zhixingc/CS542-DeepfakeDetection/blob/master/deepfake_data_conversion.ipynb\" target=\"_parent\"><img src=\"https://colab.research.google.com/assets/colab-badge.svg\" alt=\"Open In Colab\"/></a>"
      ]
    },
    {
      "cell_type": "code",
      "metadata": {
        "id": "ithBYhpJSt2x",
        "colab_type": "code",
        "colab": {}
      },
      "source": [
        "import tensorflow as tf\n",
        "from tensorflow.keras import datasets, layers, models\n",
        "import matplotlib.pyplot as plt    # for plotting the images\n",
        "%matplotlib inline\n",
        "import cv2 as cv    # for capturing videos\n",
        "import math   # for mathematical operations\n",
        "import pandas as pd\n",
        "from keras.preprocessing import image   # for preprocessing the images\n",
        "import numpy as np    # for mathematical operations\n",
        "from keras.utils import np_utils\n",
        "from skimage.transform import resize   # for resizing images\n",
        "import seaborn as sns\n",
        "import os\n",
        "import random"
      ],
      "execution_count": 17,
      "outputs": []
    },
    {
      "cell_type": "code",
      "metadata": {
        "id": "ZOQ4A2b2V2Lw",
        "colab_type": "code",
        "colab": {
          "base_uri": "https://localhost:8080/",
          "height": 124
        },
        "outputId": "c8aa6680-6896-447f-bb29-d9893f188094"
      },
      "source": [
        "from google.colab import drive\n",
        "drive.mount('/content/drive')"
      ],
      "execution_count": 2,
      "outputs": [
        {
          "output_type": "stream",
          "text": [
            "Go to this URL in a browser: https://accounts.google.com/o/oauth2/auth?client_id=947318989803-6bn6qk8qdgf4n4g3pfee6491hc0brc4i.apps.googleusercontent.com&redirect_uri=urn%3aietf%3awg%3aoauth%3a2.0%3aoob&response_type=code&scope=email%20https%3a%2f%2fwww.googleapis.com%2fauth%2fdocs.test%20https%3a%2f%2fwww.googleapis.com%2fauth%2fdrive%20https%3a%2f%2fwww.googleapis.com%2fauth%2fdrive.photos.readonly%20https%3a%2f%2fwww.googleapis.com%2fauth%2fpeopleapi.readonly\n",
            "\n",
            "Enter your authorization code:\n",
            "··········\n",
            "Mounted at /content/drive\n"
          ],
          "name": "stdout"
        }
      ]
    },
    {
      "cell_type": "code",
      "metadata": {
        "id": "g6UO0CDGnuPH",
        "colab_type": "code",
        "colab": {
          "base_uri": "https://localhost:8080/",
          "height": 34
        },
        "outputId": "c76420b8-80d0-4c06-8b8e-1d1db4486ffa"
      },
      "source": [
        "DATA_FOLDER = '/content/drive/My Drive/Summer 2020/CS542 Deepfake Project/data/'\n",
        "TRAIN_SAMPLE_FOLDER = 'dfdc_train_part_46'\n",
        "#TEST_FOLDER = 'test_videos'\n",
        "print(f\"Train samples: {len(os.listdir(os.path.join(DATA_FOLDER, TRAIN_SAMPLE_FOLDER)))}\")\n"
      ],
      "execution_count": 4,
      "outputs": [
        {
          "output_type": "stream",
          "text": [
            "Train samples: 2203\n"
          ],
          "name": "stdout"
        }
      ]
    },
    {
      "cell_type": "code",
      "metadata": {
        "id": "TqOwku_-2UD1",
        "colab_type": "code",
        "colab": {
          "base_uri": "https://localhost:8080/",
          "height": 34
        },
        "outputId": "2134896a-ff19-4a0c-a8fd-705c65001787"
      },
      "source": [
        "train_list = list(os.listdir(os.path.join(DATA_FOLDER, TRAIN_SAMPLE_FOLDER)))\n",
        "train_list.remove('metadata.json')  #remove metadata file from training list \n",
        "len(train_list)"
      ],
      "execution_count": 5,
      "outputs": [
        {
          "output_type": "execute_result",
          "data": {
            "text/plain": [
              "2202"
            ]
          },
          "metadata": {
            "tags": []
          },
          "execution_count": 5
        }
      ]
    },
    {
      "cell_type": "code",
      "metadata": {
        "id": "yJTecCEicspQ",
        "colab_type": "code",
        "colab": {
          "base_uri": "https://localhost:8080/",
          "height": 206
        },
        "outputId": "5dbe1ab8-3889-4a77-9cb1-489761bf81d0"
      },
      "source": [
        "def get_meta_from_json(path):\n",
        "    df = pd.read_json(os.path.join(DATA_FOLDER, path, 'metadata.json'))\n",
        "    df = df.T\n",
        "    return df\n",
        "\n",
        "meta_train_df = get_meta_from_json(TRAIN_SAMPLE_FOLDER)\n",
        "meta_train_df.head()"
      ],
      "execution_count": 6,
      "outputs": [
        {
          "output_type": "execute_result",
          "data": {
            "text/html": [
              "<div>\n",
              "<style scoped>\n",
              "    .dataframe tbody tr th:only-of-type {\n",
              "        vertical-align: middle;\n",
              "    }\n",
              "\n",
              "    .dataframe tbody tr th {\n",
              "        vertical-align: top;\n",
              "    }\n",
              "\n",
              "    .dataframe thead th {\n",
              "        text-align: right;\n",
              "    }\n",
              "</style>\n",
              "<table border=\"1\" class=\"dataframe\">\n",
              "  <thead>\n",
              "    <tr style=\"text-align: right;\">\n",
              "      <th></th>\n",
              "      <th>label</th>\n",
              "      <th>split</th>\n",
              "      <th>original</th>\n",
              "    </tr>\n",
              "  </thead>\n",
              "  <tbody>\n",
              "    <tr>\n",
              "      <th>umkxoagtyp.mp4</th>\n",
              "      <td>FAKE</td>\n",
              "      <td>train</td>\n",
              "      <td>ruhjnjwokl.mp4</td>\n",
              "    </tr>\n",
              "    <tr>\n",
              "      <th>icctbkjedq.mp4</th>\n",
              "      <td>FAKE</td>\n",
              "      <td>train</td>\n",
              "      <td>gfdenskfme.mp4</td>\n",
              "    </tr>\n",
              "    <tr>\n",
              "      <th>muyvajjpge.mp4</th>\n",
              "      <td>FAKE</td>\n",
              "      <td>train</td>\n",
              "      <td>ijeqomctsa.mp4</td>\n",
              "    </tr>\n",
              "    <tr>\n",
              "      <th>zbwhxgarqw.mp4</th>\n",
              "      <td>FAKE</td>\n",
              "      <td>train</td>\n",
              "      <td>hhuakzfttr.mp4</td>\n",
              "    </tr>\n",
              "    <tr>\n",
              "      <th>lbgohgvmlj.mp4</th>\n",
              "      <td>FAKE</td>\n",
              "      <td>train</td>\n",
              "      <td>mdsmgzaltc.mp4</td>\n",
              "    </tr>\n",
              "  </tbody>\n",
              "</table>\n",
              "</div>"
            ],
            "text/plain": [
              "               label  split        original\n",
              "umkxoagtyp.mp4  FAKE  train  ruhjnjwokl.mp4\n",
              "icctbkjedq.mp4  FAKE  train  gfdenskfme.mp4\n",
              "muyvajjpge.mp4  FAKE  train  ijeqomctsa.mp4\n",
              "zbwhxgarqw.mp4  FAKE  train  hhuakzfttr.mp4\n",
              "lbgohgvmlj.mp4  FAKE  train  mdsmgzaltc.mp4"
            ]
          },
          "metadata": {
            "tags": []
          },
          "execution_count": 6
        }
      ]
    },
    {
      "cell_type": "code",
      "metadata": {
        "id": "i1mJpJU-dA6e",
        "colab_type": "code",
        "colab": {}
      },
      "source": [
        "def missing_data(data):\n",
        "    total = data.isnull().sum()\n",
        "    percent = (data.isnull().sum()/data.isnull().count()*100)\n",
        "    tt = pd.concat([total, percent], axis=1, keys=['Total', 'Percent'])\n",
        "    types = []\n",
        "    for col in data.columns:\n",
        "        dtype = str(data[col].dtype)\n",
        "        types.append(dtype)\n",
        "    tt['Types'] = types\n",
        "    return(np.transpose(tt))\n"
      ],
      "execution_count": 7,
      "outputs": []
    },
    {
      "cell_type": "code",
      "metadata": {
        "id": "iRAvUCDEdGnr",
        "colab_type": "code",
        "colab": {
          "base_uri": "https://localhost:8080/",
          "height": 143
        },
        "outputId": "e3e92347-979e-4fd4-8441-b2fe8955d2f9"
      },
      "source": [
        "missing_data(meta_train_df)"
      ],
      "execution_count": 8,
      "outputs": [
        {
          "output_type": "execute_result",
          "data": {
            "text/html": [
              "<div>\n",
              "<style scoped>\n",
              "    .dataframe tbody tr th:only-of-type {\n",
              "        vertical-align: middle;\n",
              "    }\n",
              "\n",
              "    .dataframe tbody tr th {\n",
              "        vertical-align: top;\n",
              "    }\n",
              "\n",
              "    .dataframe thead th {\n",
              "        text-align: right;\n",
              "    }\n",
              "</style>\n",
              "<table border=\"1\" class=\"dataframe\">\n",
              "  <thead>\n",
              "    <tr style=\"text-align: right;\">\n",
              "      <th></th>\n",
              "      <th>label</th>\n",
              "      <th>split</th>\n",
              "      <th>original</th>\n",
              "    </tr>\n",
              "  </thead>\n",
              "  <tbody>\n",
              "    <tr>\n",
              "      <th>Total</th>\n",
              "      <td>0</td>\n",
              "      <td>0</td>\n",
              "      <td>389</td>\n",
              "    </tr>\n",
              "    <tr>\n",
              "      <th>Percent</th>\n",
              "      <td>0</td>\n",
              "      <td>0</td>\n",
              "      <td>17.6658</td>\n",
              "    </tr>\n",
              "    <tr>\n",
              "      <th>Types</th>\n",
              "      <td>object</td>\n",
              "      <td>object</td>\n",
              "      <td>object</td>\n",
              "    </tr>\n",
              "  </tbody>\n",
              "</table>\n",
              "</div>"
            ],
            "text/plain": [
              "          label   split original\n",
              "Total         0       0      389\n",
              "Percent       0       0  17.6658\n",
              "Types    object  object   object"
            ]
          },
          "metadata": {
            "tags": []
          },
          "execution_count": 8
        }
      ]
    },
    {
      "cell_type": "code",
      "metadata": {
        "id": "Q1A0fS-CdQId",
        "colab_type": "code",
        "colab": {
          "base_uri": "https://localhost:8080/",
          "height": 143
        },
        "outputId": "32b9d188-1d70-4c49-f0f3-f90ea4d772fb"
      },
      "source": [
        "#check that the only missing data is in the column \"original\", from the videos that are real\n",
        "missing_data(meta_train_df.loc[meta_train_df.label=='REAL'])"
      ],
      "execution_count": 9,
      "outputs": [
        {
          "output_type": "execute_result",
          "data": {
            "text/html": [
              "<div>\n",
              "<style scoped>\n",
              "    .dataframe tbody tr th:only-of-type {\n",
              "        vertical-align: middle;\n",
              "    }\n",
              "\n",
              "    .dataframe tbody tr th {\n",
              "        vertical-align: top;\n",
              "    }\n",
              "\n",
              "    .dataframe thead th {\n",
              "        text-align: right;\n",
              "    }\n",
              "</style>\n",
              "<table border=\"1\" class=\"dataframe\">\n",
              "  <thead>\n",
              "    <tr style=\"text-align: right;\">\n",
              "      <th></th>\n",
              "      <th>label</th>\n",
              "      <th>split</th>\n",
              "      <th>original</th>\n",
              "    </tr>\n",
              "  </thead>\n",
              "  <tbody>\n",
              "    <tr>\n",
              "      <th>Total</th>\n",
              "      <td>0</td>\n",
              "      <td>0</td>\n",
              "      <td>389</td>\n",
              "    </tr>\n",
              "    <tr>\n",
              "      <th>Percent</th>\n",
              "      <td>0</td>\n",
              "      <td>0</td>\n",
              "      <td>100</td>\n",
              "    </tr>\n",
              "    <tr>\n",
              "      <th>Types</th>\n",
              "      <td>object</td>\n",
              "      <td>object</td>\n",
              "      <td>object</td>\n",
              "    </tr>\n",
              "  </tbody>\n",
              "</table>\n",
              "</div>"
            ],
            "text/plain": [
              "          label   split original\n",
              "Total         0       0      389\n",
              "Percent       0       0      100\n",
              "Types    object  object   object"
            ]
          },
          "metadata": {
            "tags": []
          },
          "execution_count": 9
        }
      ]
    },
    {
      "cell_type": "code",
      "metadata": {
        "id": "8ZLaa7yhd4Im",
        "colab_type": "code",
        "colab": {
          "base_uri": "https://localhost:8080/",
          "height": 69
        },
        "outputId": "2d2768ba-7223-4c60-f06b-cbcd212f9104"
      },
      "source": [
        "#check that no file is missing\n",
        "meta = np.array(list(meta_train_df.index))\n",
        "storage = np.array([file for file in train_list if  file.endswith('mp4')])\n",
        "print(f\"Metadata: {meta.shape[0]}, Folder: {storage.shape[0]}\")\n",
        "print(f\"Files in metadata and not in folder: {np.setdiff1d(meta,storage,assume_unique=False).shape[0]}\")\n",
        "print(f\"Files in folder and not in metadata: {np.setdiff1d(storage,meta,assume_unique=False).shape[0]}\")"
      ],
      "execution_count": 10,
      "outputs": [
        {
          "output_type": "stream",
          "text": [
            "Metadata: 2202, Folder: 2202\n",
            "Files in metadata and not in folder: 0\n",
            "Files in folder and not in metadata: 0\n"
          ],
          "name": "stdout"
        }
      ]
    },
    {
      "cell_type": "code",
      "metadata": {
        "id": "JcCCPTLQ-mJw",
        "colab_type": "code",
        "colab": {}
      },
      "source": [
        "#current version\n",
        "def images_from_video(train_list):\n",
        "  for n in range(len(train_list)):\n",
        "    video_path = os.path.join(DATA_FOLDER, TRAIN_SAMPLE_FOLDER, train_list[n])\n",
        "    capture_image = cv.VideoCapture(video_path) \n",
        "    count = 5\n",
        "    while count>0:\n",
        "      frames=random.randint(1,50)\n",
        "      capture_image.set(1,frames)\n",
        "      ret, frame = capture_image.read()\n",
        "      if ret == False:\n",
        "        continue #go to the beginning of the while loop\n",
        "      label = meta_train_df.loc[video_path.split(\"/\")[-1]].label\n",
        "      train_labels.append(label)\n",
        "      train_images.append(frame)\n",
        "      count -= 1\n",
        "  return None"
      ],
      "execution_count": 11,
      "outputs": []
    },
    {
      "cell_type": "code",
      "metadata": {
        "id": "3ctYOQHr9PuX",
        "colab_type": "code",
        "colab": {}
      },
      "source": [
        "chunks = [train_list[x:x+101] for x in range(0, len(train_list), 101)] #break the list of videos into batches"
      ],
      "execution_count": 14,
      "outputs": []
    },
    {
      "cell_type": "code",
      "metadata": {
        "id": "nCQE5pjL9cj8",
        "colab_type": "code",
        "colab": {
          "base_uri": "https://localhost:8080/",
          "height": 34
        },
        "outputId": "4b0e2692-33d4-4da9-ea50-1e5d753ee321"
      },
      "source": [
        "len(chunks)"
      ],
      "execution_count": 15,
      "outputs": [
        {
          "output_type": "execute_result",
          "data": {
            "text/plain": [
              "22"
            ]
          },
          "metadata": {
            "tags": []
          },
          "execution_count": 15
        }
      ]
    },
    {
      "cell_type": "code",
      "metadata": {
        "id": "pG6LBS1i9k9Q",
        "colab_type": "code",
        "colab": {}
      },
      "source": [
        "for c in range(len(chunks)):\n",
        "  train_images = []\n",
        "  train_labels = []\n",
        "  images_from_video(chunks[c])\n",
        "  t_i =np.asarray(train_images)\n",
        "  t_l =np.asarray(train_labels)\n",
        "  np.save(os.path.join(DATA_FOLDER,  \"npy\",'train_images_46_'+str(c)+'.npy'), t_i) #saving the file in a folder \"npy\" in the data folder\n",
        "  np.save(os.path.join(DATA_FOLDER,  \"npy\",'train_labels_46_'+str(c)+'.npy'), t_l)\n"
      ],
      "execution_count": null,
      "outputs": []
    }
  ]
}