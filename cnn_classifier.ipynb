{
 "cells": [
  {
   "cell_type": "markdown",
   "metadata": {},
   "source": [
    "# Convolutional Neural Network"
   ]
  },
  {
   "cell_type": "code",
   "execution_count": 1,
   "metadata": {},
   "outputs": [
    {
     "name": "stderr",
     "output_type": "stream",
     "text": [
      "Using TensorFlow backend.\n"
     ]
    }
   ],
   "source": [
    "import tensorflow as tf\n",
    "from tensorflow.keras import datasets, layers, models\n",
    "\n",
    "import matplotlib as mpl\n",
    "import matplotlib.pyplot as plt    # for plotting the images\n",
    "%matplotlib inline\n",
    "\n",
    "import cv2 as cv    # for capturing videos\n",
    "import math   # for mathematical operations\n",
    "import pandas as pd\n",
    "from keras.preprocessing import image   # for preprocessing the images\n",
    "import numpy as np    # for mathematical operations\n",
    "from keras.utils import np_utils\n",
    "from skimage.transform import resize   # for resizing images\n",
    "import seaborn as sns\n",
    "import os\n",
    "\n",
    "import os\n",
    "import tempfile\n",
    "\n",
    "# keras imports for the dataset and building our neural network\n",
    "from tensorflow import keras\n",
    "from keras.datasets import mnist\n",
    "from keras.models import Sequential\n",
    "from keras.layers import Dense, Dropout, Conv2D, MaxPool2D, Flatten\n",
    "from keras.utils import np_utils\n",
    "\n",
    "from keras.preprocessing.image import ImageDataGenerator\n",
    "\n",
    "import sklearn\n",
    "# to calculate accuracy\n",
    "from sklearn.metrics import accuracy_score\n",
    "from sklearn.metrics import confusion_matrix\n",
    "from sklearn.model_selection import train_test_split\n",
    "from sklearn.preprocessing import StandardScaler"
   ]
  },
  {
   "cell_type": "code",
   "execution_count": 2,
   "metadata": {},
   "outputs": [],
   "source": [
    "# Define some metrics of accuracy\n",
    "METRICS = [\n",
    "      keras.metrics.TruePositives(name='tp'),\n",
    "      keras.metrics.FalsePositives(name='fp'),\n",
    "      keras.metrics.TrueNegatives(name='tn'),\n",
    "      keras.metrics.FalseNegatives(name='fn'), \n",
    "      keras.metrics.BinaryAccuracy(name='accuracy'),\n",
    "      keras.metrics.Precision(name='precision'),\n",
    "      keras.metrics.Recall(name='recall'),\n",
    "      keras.metrics.AUC(name='auc'),\n",
    "]"
   ]
  },
  {
   "cell_type": "markdown",
   "metadata": {},
   "source": [
    "The division of the dataset into chunks, the extraction of random frames from those chunks, and the extraction and saving of faces from those frames are presented in a separate notebook."
   ]
  },
  {
   "cell_type": "markdown",
   "metadata": {},
   "source": [
    "Let's define some functions which will be useful for visualising our results"
   ]
  },
  {
   "cell_type": "code",
   "execution_count": 3,
   "metadata": {},
   "outputs": [],
   "source": [
    "mpl.rcParams['figure.figsize'] = (12, 10)\n",
    "colors = plt.rcParams['axes.prop_cycle'].by_key()['color']"
   ]
  },
  {
   "cell_type": "code",
   "execution_count": 57,
   "metadata": {},
   "outputs": [],
   "source": [
    "def plot_metrics(history):\n",
    "  metrics =  ['auc', 'precision', 'recall'] # removed loss\n",
    "  for n, metric in enumerate(metrics):\n",
    "    name = metric.replace(\"_\",\" \").capitalize()\n",
    "    plt.subplot(2,2,n+1)\n",
    "    plt.plot(history.epoch,  history.history[metric], color=colors[0], label='Train')\n",
    "    plt.plot(history.epoch, history.history['val_'+metric],\n",
    "             color=colors[0], linestyle=\"--\", label='Val')\n",
    "    \n",
    "    plt.xlabel('Epoch')\n",
    "    plt.ylabel(name)\n",
    "    if metric == 'loss':\n",
    "      plt.ylim([0, plt.ylim()[1]])\n",
    "    elif metric == 'auc':\n",
    "      plt.ylim([0.5,1])\n",
    "    else:\n",
    "      plt.ylim([0,1])\n",
    "    plt.legend()\n",
    "    plt.savefig('epoch_history.png', dpi=800)"
   ]
  },
  {
   "cell_type": "code",
   "execution_count": 64,
   "metadata": {},
   "outputs": [],
   "source": [
    "def plot_cm(labels, predictions, p=0.5):\n",
    "  cm = confusion_matrix(labels, predictions > p)\n",
    "  plt.figure(figsize=(5.5,5))\n",
    "  sns.heatmap(cm, annot=True, fmt=\"d\")\n",
    "  plt.title('Confusion matrix @{:.2f}'.format(p))\n",
    "  plt.ylabel('Actual label')\n",
    "  plt.xlabel('Predicted label')\n",
    "\n",
    "  print('Real Videos Detected (True Negatives): ', cm[0][0])\n",
    "  print('Real Videos Incorrectly Detected (False Positives): ', cm[0][1])\n",
    "  print('Fake Videos Missed (False Negatives): ', cm[1][0])\n",
    "  print('Fake Videos Detected (True Positives): ', cm[1][1])\n",
    "  print('Total Fake Videos: ', np.sum(cm[1]))\n",
    "\n",
    "  plt.savefig('confusion_matrix.png', dpi=800)"
   ]
  },
  {
   "cell_type": "code",
   "execution_count": 68,
   "metadata": {},
   "outputs": [],
   "source": [
    "def plot_roc(name, labels, predictions, **kwargs):\n",
    "  fp, tp, _ = sklearn.metrics.roc_curve(labels, predictions)\n",
    "\n",
    "  plt.plot(100*fp, 100*tp, label=name, linewidth=2, **kwargs)\n",
    "  plt.plot(100*np.arange(0,1,0.03),100*np.arange(0,1,0.03),'r',linestyle=(0, (1, 1)))\n",
    "  plt.xlabel('False positives',fontsize=30)\n",
    "  plt.ylabel('True positives',fontsize=30)\n",
    "\n",
    "  plt.xticks(fontsize=20)\n",
    "  plt.yticks(fontsize=20, rotation=90)\n",
    "\n",
    "  plt.xlim([-0.5,100])\n",
    "  plt.ylim([0,100.5])\n",
    "  plt.grid(True)\n",
    "    \n",
    "  legend = plt.legend(prop={'size': 60})\n",
    "  plt.setp(legend.get_title(),fontsize=20)\n",
    "\n",
    "  ax = plt.gca()\n",
    "  ax.set_aspect('equal')\n",
    "    \n",
    "  plt.savefig('roc_curve.png', dpi=800)"
   ]
  },
  {
   "cell_type": "code",
   "execution_count": 7,
   "metadata": {},
   "outputs": [],
   "source": [
    "def plot_roc2(name, labels, predictions, **kwargs):\n",
    "  fp, tp, _ = sklearn.metrics.roc_curve(labels, predictions)\n",
    "\n",
    "  plt.plot(100*fp, 100*tp, label=name, linewidth=2, **kwargs)\n",
    "    \n",
    "  plt.xlabel(r'False positives [%]}')\n",
    "  plt.ylabel(r'True positives [%]')\n",
    "  plt.xlim([-0.5,100])\n",
    "  plt.ylim([70,100.5])\n",
    "  plt.grid(True)\n",
    "  ax = plt.gca()\n",
    "  ax.set_aspect('equal')"
   ]
  },
  {
   "cell_type": "markdown",
   "metadata": {},
   "source": [
    "Define our neural network:"
   ]
  },
  {
   "cell_type": "code",
   "execution_count": 8,
   "metadata": {},
   "outputs": [],
   "source": [
    "\n",
    "model = Sequential()\n",
    "\n",
    "# convolutional layer -- try (4,4) instead of (3,3)\n",
    "model.add(Conv2D(75, kernel_size=(4,4), strides=(3,3), padding='same', activation='relu', input_shape=(256, 256, 3)))\n",
    "\n",
    "# convolutional layer\n",
    "model.add(Conv2D(50, kernel_size=(3,3), strides=(2,2), padding='same', activation='tanh'))\n",
    "model.add(MaxPool2D(pool_size=(2,2)))\n",
    "model.add(Dropout(0.25))\n",
    "\n",
    "model.add(Conv2D(25, kernel_size=(2,2), strides=(1,1), padding='same', activation='tanh'))\n",
    "model.add(MaxPool2D(pool_size=(2,2)))\n",
    "model.add(Dropout(0.25))\n",
    "\n",
    "# flatten output of conv\n",
    "model.add(Flatten())\n",
    "\n",
    "# hidden layer\n",
    "model.add(Dense(200, activation='relu'))\n",
    "model.add(Dropout(0.4))\n",
    "model.add(Dense(100, activation='relu'))\n",
    "model.add(Dropout(0.3))\n",
    "\n",
    "# output layer\n",
    "model.add(Dense(1, activation='sigmoid'))"
   ]
  },
  {
   "cell_type": "code",
   "execution_count": 9,
   "metadata": {},
   "outputs": [],
   "source": [
    "# compiling the model\n",
    "model.compile(loss='binary_crossentropy', metrics=METRICS, optimizer='adam')"
   ]
  },
  {
   "cell_type": "markdown",
   "metadata": {},
   "source": [
    "Now lets load and inspect the data"
   ]
  },
  {
   "cell_type": "code",
   "execution_count": 10,
   "metadata": {},
   "outputs": [],
   "source": [
    "TRAIN = 1\n",
    "VAL = 2\n",
    "TEST = 3"
   ]
  },
  {
   "cell_type": "code",
   "execution_count": 11,
   "metadata": {},
   "outputs": [],
   "source": [
    "# define an iterator to retrieve the data\n",
    "datagen = ImageDataGenerator()"
   ]
  },
  {
   "cell_type": "code",
   "execution_count": 12,
   "metadata": {},
   "outputs": [
    {
     "name": "stdout",
     "output_type": "stream",
     "text": [
      "Found 7364 images belonging to 2 classes.\n",
      "Found 1426 images belonging to 2 classes.\n",
      "Found 1488 images belonging to 2 classes.\n"
     ]
    }
   ],
   "source": [
    "# load and iterate training dataset\n",
    "train_it = datagen.flow_from_directory('data/aug/segregated_data/MIX_'+str(TRAIN), class_mode='binary', batch_size=64,shuffle=False)\n",
    "# load and iterate validation dataset\n",
    "val_it = datagen.flow_from_directory('data/aug/segregated_data/MIX_'+str(VAL), class_mode='binary', batch_size=64,shuffle=False)\n",
    "# load and iterate test dataset\n",
    "test_it = datagen.flow_from_directory('data/aug/segregated_data/MIX_'+str(TEST), class_mode='binary', batch_size=64,shuffle=False)"
   ]
  },
  {
   "cell_type": "code",
   "execution_count": 13,
   "metadata": {},
   "outputs": [],
   "source": [
    "# extract the labels from the iterators for comparison when plotting\n",
    "\n",
    "n=64\n",
    "\n",
    "number_of_examples = len(train_it.filenames)\n",
    "number_of_generator_calls = math.ceil(number_of_examples / (1.0 * n)) \n",
    "# 1.0 above is to skip integer division\n",
    "train_labels = []\n",
    "for i in range(0,int(number_of_generator_calls)):\n",
    "    train_labels.extend(np.array(train_it[i][1]))\n",
    "train_labels=np.asarray(train_labels)\n",
    "\n",
    "number_of_examples = len(val_it.filenames)\n",
    "number_of_generator_calls = math.ceil(number_of_examples / (1.0 * n)) \n",
    "# 1.0 above is to skip integer division\n",
    "val_labels = []\n",
    "for i in range(0,int(number_of_generator_calls)):\n",
    "    val_labels.extend(np.array(val_it[i][1]))\n",
    "val_labels=np.asarray(val_labels)\n",
    "    \n",
    "number_of_examples = len(test_it.filenames)\n",
    "number_of_generator_calls = math.ceil(number_of_examples / (1.0 * n)) \n",
    "# 1.0 above is to skip integer division\n",
    "test_labels = []\n",
    "for i in range(0,int(number_of_generator_calls)):\n",
    "    test_labels.extend(np.array(test_it[i][1]))\n",
    "test_labels=np.asarray(test_labels)"
   ]
  },
  {
   "cell_type": "markdown",
   "metadata": {},
   "source": [
    "Now let's train the model and assess the performance"
   ]
  },
  {
   "cell_type": "code",
   "execution_count": 16,
   "metadata": {},
   "outputs": [
    {
     "name": "stdout",
     "output_type": "stream",
     "text": [
      "Epoch 1/100\n",
      "116/116 [==============================] - 18s 159ms/step - loss: 0.7294 - tp: 794.6035 - fp: 1047.1034 - tn: 905.9828 - fn: 973.0345 - accuracy: 0.4657 - precision: 0.3744 - recall: 0.3720 - auc: 0.4462 - val_loss: 0.7043 - val_tp: 1990.9565 - val_fp: 2370.7827 - val_tn: 1863.3914 - val_fn: 1904.8695 - val_accuracy: 0.4740 - val_precision: 0.4564 - val_recall: 0.5126 - val_auc: 0.4691\n",
      "Epoch 2/100\n",
      "116/116 [==============================] - 18s 159ms/step - loss: 0.6975 - tp: 2375.2932 - fp: 2860.7932 - tn: 3523.5862 - fn: 3762.4312 - accuracy: 0.4704 - precision: 0.4538 - recall: 0.3946 - auc: 0.4665 - val_loss: 0.6812 - val_tp: 2951.7390 - val_fp: 3597.9565 - val_tn: 5018.2173 - val_fn: 5352.0869 - val_accuracy: 0.4710 - val_precision: 0.4502 - val_recall: 0.3549 - val_auc: 0.4654\n",
      "Epoch 3/100\n",
      "116/116 [==============================] - 21s 178ms/step - loss: 0.6970 - tp: 4824.6206 - fp: 5160.1206 - tn: 5477.2588 - fn: 5858.8965 - accuracy: 0.4835 - precision: 0.4840 - recall: 0.4505 - auc: 0.4769 - val_loss: 0.6847 - val_tp: 5932.6089 - val_fp: 6772.0000 - val_tn: 6226.1738 - val_fn: 6779.2173 - val_accuracy: 0.4729 - val_precision: 0.4669 - val_recall: 0.4665 - val_auc: 0.4703\n",
      "Epoch 4/100\n",
      "116/116 [==============================] - 19s 167ms/step - loss: 0.6953 - tp: 6788.6724 - fp: 7604.5776 - tn: 7626.9053 - fn: 8039.5347 - accuracy: 0.4795 - precision: 0.4716 - recall: 0.4587 - auc: 0.4741 - val_loss: 0.6834 - val_tp: 7986.6958 - val_fp: 8798.4785 - val_tn: 8581.6953 - val_fn: 9133.1309 - val_accuracy: 0.4802 - val_precision: 0.4758 - val_recall: 0.4664 - val_auc: 0.4739\n",
      "Epoch 5/100\n",
      "116/116 [==============================] - 21s 181ms/step - loss: 0.6940 - tp: 10351.4141 - fp: 10600.2588 - tn: 8639.7070 - fn: 9271.2412 - accuracy: 0.4886 - precision: 0.4940 - recall: 0.5262 - auc: 0.4825 - val_loss: 0.6874 - val_tp: 12132.6953 - val_fp: 12854.3916 - val_tn: 8907.7822 - val_fn: 9395.1309 - val_accuracy: 0.4860 - val_precision: 0.4855 - val_recall: 0.5636 - val_auc: 0.4824\n",
      "Epoch 6/100\n",
      "116/116 [==============================] - 21s 182ms/step - loss: 0.7023 - tp: 13552.3711 - fp: 13937.3535 - tn: 9808.9395 - fn: 10371.0254 - accuracy: 0.4900 - precision: 0.4929 - recall: 0.5666 - auc: 0.4858 - val_loss: 0.7232 - val_tp: 14462.9561 - val_fp: 14838.0000 - val_tn: 11306.1738 - val_fn: 11472.8691 - val_accuracy: 0.4948 - val_precision: 0.4936 - val_recall: 0.5577 - val_auc: 0.4924\n",
      "Epoch 7/100\n",
      "116/116 [==============================] - 21s 180ms/step - loss: 0.6986 - tp: 15780.8018 - fp: 15923.4141 - tn: 12093.1729 - fn: 12647.3018 - accuracy: 0.4938 - precision: 0.4977 - recall: 0.5548 - auc: 0.4907 - val_loss: 0.6915 - val_tp: 17262.2617 - val_fp: 17626.3477 - val_tn: 12899.8262 - val_fn: 13081.5654 - val_accuracy: 0.4955 - val_precision: 0.4948 - val_recall: 0.5689 - val_auc: 0.4935\n",
      "Epoch 8/100\n",
      "116/116 [==============================] - 20s 174ms/step - loss: 0.6886 - tp: 19247.0176 - fp: 18938.5508 - tn: 13275.7754 - fn: 13774.8965 - accuracy: 0.4985 - precision: 0.5040 - recall: 0.5826 - auc: 0.4976 - val_loss: 0.9886 - val_tp: 20307.5215 - val_fp: 20192.6094 - val_tn: 14715.5654 - val_fn: 14444.3047 - val_accuracy: 0.5028 - val_precision: 0.5014 - val_recall: 0.5844 - val_auc: 0.5075\n",
      "Epoch 9/100\n",
      "116/116 [==============================] - 23s 195ms/step - loss: 0.7298 - tp: 21237.5859 - fp: 21296.6465 - tn: 15731.5947 - fn: 15756.7930 - accuracy: 0.4995 - precision: 0.4993 - recall: 0.5741 - auc: 0.5015 - val_loss: 0.6740 - val_tp: 22453.4785 - val_fp: 22815.1309 - val_tn: 16475.0430 - val_fn: 16706.3477 - val_accuracy: 0.4962 - val_precision: 0.4960 - val_recall: 0.5734 - val_auc: 0.4986\n",
      "Epoch 10/100\n",
      "116/116 [==============================] - 20s 169ms/step - loss: 0.6850 - tp: 24157.3457 - fp: 24119.8887 - tn: 17165.1465 - fn: 17361.4492 - accuracy: 0.4990 - precision: 0.5004 - recall: 0.5818 - auc: 0.5012 - val_loss: 0.6341 - val_tp: 25296.4785 - val_fp: 25210.9121 - val_tn: 18461.2617 - val_fn: 18271.3477 - val_accuracy: 0.5016 - val_precision: 0.5008 - val_recall: 0.5806 - val_auc: 0.5055\n",
      "Epoch 11/100\n",
      "116/116 [==============================] - 21s 182ms/step - loss: 0.6855 - tp: 26553.5000 - fp: 26129.3184 - tn: 19543.3184 - fn: 19381.1387 - accuracy: 0.5032 - precision: 0.5040 - recall: 0.5781 - auc: 0.5079 - val_loss: 0.6812 - val_tp: 27599.3906 - val_fp: 27032.6523 - val_tn: 21021.5215 - val_fn: 20376.4355 - val_accuracy: 0.5063 - val_precision: 0.5052 - val_recall: 0.5753 - val_auc: 0.5131\n",
      "Epoch 12/100\n",
      "116/116 [==============================] - 20s 176ms/step - loss: 0.6750 - tp: 28777.2930 - fp: 27788.1113 - tn: 22229.2676 - fn: 21602.0859 - accuracy: 0.5080 - precision: 0.5087 - recall: 0.5712 - auc: 0.5154 - val_loss: 0.6601 - val_tp: 29833.2168 - val_fp: 28782.4355 - val_tn: 23653.7383 - val_fn: 22550.6094 - val_accuracy: 0.5103 - val_precision: 0.5090 - val_recall: 0.5695 - val_auc: 0.5188\n",
      "Epoch 13/100\n",
      "116/116 [==============================] - 21s 181ms/step - loss: 0.6744 - tp: 30793.3008 - fp: 29313.6543 - tn: 25162.0000 - fn: 23896.5957 - accuracy: 0.5125 - precision: 0.5123 - recall: 0.5631 - auc: 0.5220 - val_loss: 0.5444 - val_tp: 31674.3906 - val_fp: 29965.2168 - val_tn: 26852.9570 - val_fn: 25117.4355 - val_accuracy: 0.5152 - val_precision: 0.5139 - val_recall: 0.5577 - val_auc: 0.5257\n",
      "Epoch 14/100\n",
      "116/116 [==============================] - 19s 167ms/step - loss: 0.6628 - tp: 32785.8359 - fp: 30553.8711 - tn: 28381.8887 - fn: 26291.8887 - accuracy: 0.5183 - precision: 0.5176 - recall: 0.5550 - auc: 0.5311 - val_loss: 0.5824 - val_tp: 33997.1758 - val_fp: 31495.6094 - val_tn: 29704.5645 - val_fn: 27202.6523 - val_accuracy: 0.5204 - val_precision: 0.5191 - val_recall: 0.5555 - val_auc: 0.5343\n",
      "Epoch 15/100\n",
      "116/116 [==============================] - 19s 164ms/step - loss: 0.6489 - tp: 35361.3867 - fp: 32225.8184 - tn: 30878.3887 - fn: 28314.0957 - accuracy: 0.5225 - precision: 0.5232 - recall: 0.5553 - auc: 0.5383 - val_loss: 0.6507 - val_tp: 36245.7812 - val_fp: 32832.4336 - val_tn: 32749.7383 - val_fn: 29362.0430 - val_accuracy: 0.5259 - val_precision: 0.5247 - val_recall: 0.5525 - val_auc: 0.5441\n",
      "Epoch 16/100\n",
      "116/116 [==============================] - 20s 174ms/step - loss: 0.6329 - tp: 37285.5000 - fp: 33332.5938 - tn: 34248.1133 - fn: 30683.8281 - accuracy: 0.5277 - precision: 0.5280 - recall: 0.5486 - auc: 0.5470 - val_loss: 0.6065 - val_tp: 38351.6523 - val_fp: 33990.9570 - val_tn: 35973.2188 - val_fn: 31664.1738 - val_accuracy: 0.5310 - val_precision: 0.5301 - val_recall: 0.5478 - val_auc: 0.5523\n",
      "Epoch 17/100\n",
      "116/116 [==============================] - 19s 166ms/step - loss: 0.6257 - tp: 39516.7578 - fp: 34499.1367 - tn: 37395.5352 - fn: 32923.4297 - accuracy: 0.5329 - precision: 0.5339 - recall: 0.5455 - auc: 0.5557 - val_loss: 0.6403 - val_tp: 40517.4336 - val_fp: 35079.5664 - val_tn: 39266.6094 - val_fn: 33906.3906 - val_accuracy: 0.5363 - val_precision: 0.5360 - val_recall: 0.5444 - val_auc: 0.5615\n",
      "Epoch 18/100\n",
      "116/116 [==============================] - 20s 173ms/step - loss: 0.6351 - tp: 41658.4492 - fp: 35598.2227 - tn: 40729.6562 - fn: 35162.8438 - accuracy: 0.5379 - precision: 0.5392 - recall: 0.5423 - auc: 0.5641 - val_loss: 0.5489 - val_tp: 42547.9570 - val_fp: 36160.6094 - val_tn: 42567.5664 - val_fn: 36283.8711 - val_accuracy: 0.5402 - val_precision: 0.5406 - val_recall: 0.5397 - val_auc: 0.5672\n",
      "Epoch 19/100\n",
      "116/116 [==============================] - 19s 165ms/step - loss: 0.6228 - tp: 44165.6016 - fp: 36821.2344 - tn: 43728.0781 - fn: 37205.1211 - accuracy: 0.5428 - precision: 0.5453 - recall: 0.5428 - auc: 0.5716 - val_loss: 0.6940 - val_tp: 45169.7812 - val_fp: 37423.7383 - val_tn: 45686.4336 - val_fn: 38070.0430 - val_accuracy: 0.5462 - val_precision: 0.5469 - val_recall: 0.5426 - val_auc: 0.5766\n",
      "Epoch 20/100\n",
      "116/116 [==============================] - 18s 156ms/step - loss: 0.6029 - tp: 46102.2930 - fp: 37728.2852 - tn: 47494.1641 - fn: 39397.7070 - accuracy: 0.5482 - precision: 0.5499 - recall: 0.5392 - auc: 0.5798 - val_loss: 0.4781 - val_tp: 47384.3906 - val_fp: 38364.6953 - val_tn: 49127.4766 - val_fn: 40263.4336 - val_accuracy: 0.5511 - val_precision: 0.5526 - val_recall: 0.5406 - val_auc: 0.5843\n"
     ]
    },
    {
     "name": "stdout",
     "output_type": "stream",
     "text": [
      "Epoch 21/100\n",
      "116/116 [==============================] - 19s 161ms/step - loss: 0.5671 - tp: 48782.4727 - fp: 38820.7852 - tn: 50773.9219 - fn: 41160.0938 - accuracy: 0.5545 - precision: 0.5568 - recall: 0.5424 - auc: 0.5900 - val_loss: 0.3807 - val_tp: 49958.4766 - val_fp: 39384.0859 - val_tn: 52490.0859 - val_fn: 42097.3477 - val_accuracy: 0.5570 - val_precision: 0.5592 - val_recall: 0.5427 - val_auc: 0.5939\n",
      "Epoch 22/100\n",
      "116/116 [==============================] - 19s 164ms/step - loss: 0.5727 - tp: 51357.3438 - fp: 39953.1484 - tn: 54003.8008 - fn: 43001.6016 - accuracy: 0.5595 - precision: 0.5624 - recall: 0.5443 - auc: 0.5981 - val_loss: 0.5131 - val_tp: 52632.3047 - val_fp: 40509.2617 - val_tn: 55746.9141 - val_fn: 43831.5234 - val_accuracy: 0.5624 - val_precision: 0.5651 - val_recall: 0.5456 - val_auc: 0.6026\n",
      "Epoch 23/100\n",
      "116/116 [==============================] - 20s 176ms/step - loss: 0.5495 - tp: 53846.7422 - fp: 40885.9492 - tn: 57617.8633 - fn: 44767.7578 - accuracy: 0.5655 - precision: 0.5684 - recall: 0.5460 - auc: 0.6077 - val_loss: 0.4507 - val_tp: 55173.0000 - val_fp: 41388.2188 - val_tn: 59249.9570 - val_fn: 45698.8242 - val_accuracy: 0.5678 - val_precision: 0.5714 - val_recall: 0.5470 - val_auc: 0.6116\n",
      "Epoch 24/100\n",
      "116/116 [==============================] - 21s 178ms/step - loss: 0.5167 - tp: 56807.1133 - fp: 41890.5586 - tn: 60738.0273 - fn: 46475.7148 - accuracy: 0.5708 - precision: 0.5755 - recall: 0.5500 - auc: 0.6166 - val_loss: 0.4479 - val_tp: 58132.3477 - val_fp: 42449.1289 - val_tn: 62571.0430 - val_fn: 47147.4766 - val_accuracy: 0.5740 - val_precision: 0.5780 - val_recall: 0.5522 - val_auc: 0.6214\n",
      "Epoch 25/100\n",
      "116/116 [==============================] - 18s 155ms/step - loss: 0.4901 - tp: 59737.6367 - fp: 42829.3984 - tn: 64178.4141 - fn: 47950.2773 - accuracy: 0.5772 - precision: 0.5824 - recall: 0.5547 - auc: 0.6267 - val_loss: 0.5137 - val_tp: 61036.4336 - val_fp: 43277.4766 - val_tn: 66124.6953 - val_fn: 48651.3906 - val_accuracy: 0.5804 - val_precision: 0.5851 - val_recall: 0.5565 - val_auc: 0.6317\n",
      "Epoch 26/100\n",
      "116/116 [==============================] - 19s 162ms/step - loss: 0.4740 - tp: 62515.6914 - fp: 43648.1133 - tn: 67917.2188 - fn: 49374.7070 - accuracy: 0.5837 - precision: 0.5888 - recall: 0.5587 - auc: 0.6369 - val_loss: 0.4224 - val_tp: 64035.0000 - val_fp: 44139.3477 - val_tn: 69644.8281 - val_fn: 50060.8242 - val_accuracy: 0.5866 - val_precision: 0.5920 - val_recall: 0.5612 - val_auc: 0.6416\n",
      "Epoch 27/100\n",
      "116/116 [==============================] - 18s 157ms/step - loss: 0.4246 - tp: 65865.0469 - fp: 44487.2773 - tn: 71191.9141 - fn: 50718.0430 - accuracy: 0.5901 - precision: 0.5968 - recall: 0.5650 - auc: 0.6473 - val_loss: 0.5841 - val_tp: 67189.3906 - val_fp: 44894.3047 - val_tn: 73271.8672 - val_fn: 51314.4336 - val_accuracy: 0.5935 - val_precision: 0.5995 - val_recall: 0.5670 - val_auc: 0.6525\n",
      "Epoch 28/100\n",
      "116/116 [==============================] - 20s 173ms/step - loss: 0.4417 - tp: 68816.5156 - fp: 45230.5078 - tn: 75058.3516 - fn: 51942.7578 - accuracy: 0.5969 - precision: 0.6034 - recall: 0.5699 - auc: 0.6579 - val_loss: 0.3347 - val_tp: 70328.1328 - val_fp: 45732.6953 - val_tn: 76815.4766 - val_fn: 52583.6953 - val_accuracy: 0.5995 - val_precision: 0.6060 - val_recall: 0.5722 - val_auc: 0.6619\n",
      "Epoch 29/100\n",
      "116/116 [==============================] - 19s 167ms/step - loss: 0.4021 - tp: 72107.7500 - fp: 46056.7500 - tn: 78474.3516 - fn: 53168.7656 - accuracy: 0.6028 - precision: 0.6102 - recall: 0.5756 - auc: 0.6671 - val_loss: 0.6250 - val_tp: 73580.6953 - val_fp: 46445.1289 - val_tn: 80485.0469 - val_fn: 53739.1289 - val_accuracy: 0.6060 - val_precision: 0.6130 - val_recall: 0.5779 - val_auc: 0.6719\n",
      "Epoch 30/100\n",
      "116/116 [==============================] - 18s 153ms/step - loss: 0.3643 - tp: 75283.0781 - fp: 46696.5078 - tn: 82319.3047 - fn: 54312.6992 - accuracy: 0.6094 - precision: 0.6172 - recall: 0.5809 - auc: 0.6773 - val_loss: 0.6045 - val_tp: 76875.6953 - val_fp: 47046.2188 - val_tn: 84265.9531 - val_fn: 54852.1289 - val_accuracy: 0.6126 - val_precision: 0.6204 - val_recall: 0.5836 - val_auc: 0.6822\n",
      "Epoch 31/100\n",
      "116/116 [==============================] - 18s 152ms/step - loss: 0.3293 - tp: 78737.9453 - fp: 47286.2773 - tn: 86001.8125 - fn: 55394.6914 - accuracy: 0.6160 - precision: 0.6248 - recall: 0.5870 - auc: 0.6875 - val_loss: 0.7168 - val_tp: 80251.3906 - val_fp: 47585.2617 - val_tn: 88108.9141 - val_fn: 55884.4336 - val_accuracy: 0.6194 - val_precision: 0.6278 - val_recall: 0.5895 - val_auc: 0.6925\n",
      "Epoch 32/100\n",
      "116/116 [==============================] - 18s 157ms/step - loss: 0.3167 - tp: 82021.6328 - fp: 47801.5703 - tn: 89947.8438 - fn: 56408.6484 - accuracy: 0.6227 - precision: 0.6318 - recall: 0.5925 - auc: 0.6975 - val_loss: 0.6765 - val_tp: 83682.1328 - val_fp: 48150.2188 - val_tn: 91925.9531 - val_fn: 56861.6953 - val_accuracy: 0.6258 - val_precision: 0.6348 - val_recall: 0.5954 - val_auc: 0.7022\n",
      "Epoch 33/100\n",
      "116/116 [==============================] - 18s 152ms/step - loss: 0.2837 - tp: 85574.8125 - fp: 48353.3711 - tn: 93729.9766 - fn: 57362.2227 - accuracy: 0.6291 - precision: 0.6389 - recall: 0.5987 - auc: 0.7072 - val_loss: 0.5506 - val_tp: 87173.1719 - val_fp: 48645.9570 - val_tn: 95812.2188 - val_fn: 57778.6523 - val_accuracy: 0.6323 - val_precision: 0.6418 - val_recall: 0.6014 - val_auc: 0.7118\n",
      "Epoch 34/100\n",
      "116/116 [==============================] - 17s 148ms/step - loss: 0.2717 - tp: 89221.5938 - fp: 48846.7773 - tn: 97427.3281 - fn: 58283.6484 - accuracy: 0.6353 - precision: 0.6462 - recall: 0.6049 - auc: 0.7164 - val_loss: 1.0170 - val_tp: 90700.6094 - val_fp: 49100.6953 - val_tn: 99739.4766 - val_fn: 58659.2188 - val_accuracy: 0.6386 - val_precision: 0.6488 - val_recall: 0.6073 - val_auc: 0.7212\n",
      "Epoch 35/100\n",
      "116/116 [==============================] - 17s 145ms/step - loss: 0.2767 - tp: 92519.2500 - fp: 49267.8711 - tn: 101603.8906 - fn: 59179.8867 - accuracy: 0.6416 - precision: 0.6525 - recall: 0.6099 - auc: 0.7254 - val_loss: 0.8729 - val_tp: 94169.1328 - val_fp: 49526.1289 - val_tn: 103696.0469 - val_fn: 59598.6953 - val_accuracy: 0.6445 - val_precision: 0.6553 - val_recall: 0.6124 - val_auc: 0.7297\n",
      "Epoch 36/100\n",
      "116/116 [==============================] - 20s 169ms/step - loss: 0.2428 - tp: 96003.0547 - fp: 49697.4219 - tn: 105601.0938 - fn: 60047.4297 - accuracy: 0.6475 - precision: 0.6589 - recall: 0.6152 - auc: 0.7340 - val_loss: 0.7894 - val_tp: 97754.6484 - val_fp: 49929.4766 - val_tn: 107674.6953 - val_fn: 60421.1758 - val_accuracy: 0.6505 - val_precision: 0.6619 - val_recall: 0.6180 - val_auc: 0.7383\n",
      "Epoch 37/100\n",
      "116/116 [==============================] - 20s 170ms/step - loss: 0.2298 - tp: 99609.7031 - fp: 50065.1133 - tn: 109625.8047 - fn: 60835.2773 - accuracy: 0.6536 - precision: 0.6655 - recall: 0.6208 - auc: 0.7425 - val_loss: 0.8472 - val_tp: 101357.1719 - val_fp: 50304.0859 - val_tn: 111682.0859 - val_fn: 61226.6523 - val_accuracy: 0.6564 - val_precision: 0.6683 - val_recall: 0.6234 - val_auc: 0.7465\n",
      "Epoch 38/100\n",
      "116/116 [==============================] - 19s 162ms/step - loss: 0.2099 - tp: 103247.8125 - fp: 50436.4219 - tn: 113660.7812 - fn: 61624.3281 - accuracy: 0.6593 - precision: 0.6718 - recall: 0.6262 - auc: 0.7506 - val_loss: 0.7162 - val_tp: 105022.9531 - val_fp: 50654.4336 - val_tn: 115713.7422 - val_fn: 61968.8711 - val_accuracy: 0.6622 - val_precision: 0.6746 - val_recall: 0.6289 - val_auc: 0.7545\n",
      "Epoch 39/100\n",
      "116/116 [==============================] - 18s 152ms/step - loss: 0.2144 - tp: 106943.5000 - fp: 50800.0781 - tn: 117601.4375 - fn: 62369.3281 - accuracy: 0.6649 - precision: 0.6779 - recall: 0.6316 - auc: 0.7583 - val_loss: 1.2268 - val_tp: 108692.9531 - val_fp: 51055.1289 - val_tn: 119695.0469 - val_fn: 62706.8711 - val_accuracy: 0.6675 - val_precision: 0.6804 - val_recall: 0.6341 - val_auc: 0.7618\n",
      "Epoch 40/100\n",
      "116/116 [==============================] - 17s 149ms/step - loss: 0.1947 - tp: 110589.4922 - fp: 51169.1992 - tn: 121670.4219 - fn: 63102.6484 - accuracy: 0.6702 - precision: 0.6837 - recall: 0.6367 - auc: 0.7655 - val_loss: 1.0621 - val_tp: 112363.6094 - val_fp: 51393.8242 - val_tn: 123738.3516 - val_fn: 63444.2188 - val_accuracy: 0.6728 - val_precision: 0.6862 - val_recall: 0.6391 - val_auc: 0.7689\n"
     ]
    },
    {
     "name": "stdout",
     "output_type": "stream",
     "text": [
      "Epoch 41/100\n",
      "116/116 [==============================] - 19s 160ms/step - loss: 0.1837 - tp: 114242.6172 - fp: 51534.2070 - tn: 125759.0000 - fn: 63803.5156 - accuracy: 0.6754 - precision: 0.6891 - recall: 0.6416 - auc: 0.7725 - val_loss: 1.2105 - val_tp: 116114.9531 - val_fp: 51746.0000 - val_tn: 127768.1719 - val_fn: 64100.8711 - val_accuracy: 0.6780 - val_precision: 0.6917 - val_recall: 0.6443 - val_auc: 0.7758\n",
      "Epoch 42/100\n",
      "116/116 [==============================] - 18s 153ms/step - loss: 0.1854 - tp: 118015.7656 - fp: 51871.5703 - tn: 129759.3125 - fn: 64457.3516 - accuracy: 0.6805 - precision: 0.6947 - recall: 0.6468 - auc: 0.7792 - val_loss: 1.0198 - val_tp: 119887.3516 - val_fp: 52101.7812 - val_tn: 131794.3906 - val_fn: 64736.4766 - val_accuracy: 0.6830 - val_precision: 0.6971 - val_recall: 0.6494 - val_auc: 0.7823\n",
      "Epoch 43/100\n",
      "116/116 [==============================] - 19s 164ms/step - loss: 0.1807 - tp: 121904.1719 - fp: 52230.9492 - tn: 133694.6875 - fn: 65071.4297 - accuracy: 0.6854 - precision: 0.7000 - recall: 0.6520 - auc: 0.7856 - val_loss: 1.0295 - val_tp: 123635.2188 - val_fp: 52434.9141 - val_tn: 135843.2656 - val_fn: 65396.6094 - val_accuracy: 0.6877 - val_precision: 0.7022 - val_recall: 0.6540 - val_auc: 0.7884\n",
      "Epoch 44/100\n",
      "116/116 [==============================] - 17s 149ms/step - loss: 0.1910 - tp: 125639.0469 - fp: 52578.0508 - tn: 137678.3281 - fn: 65768.9219 - accuracy: 0.6899 - precision: 0.7050 - recall: 0.6564 - auc: 0.7913 - val_loss: 1.6019 - val_tp: 127434.0859 - val_fp: 52874.8242 - val_tn: 139785.3438 - val_fn: 66005.7422 - val_accuracy: 0.6921 - val_precision: 0.7068 - val_recall: 0.6588 - val_auc: 0.7941\n",
      "Epoch 45/100\n",
      "116/116 [==============================] - 17s 147ms/step - loss: 0.1794 - tp: 129443.0859 - fp: 53031.3438 - tn: 141685.3750 - fn: 66335.9141 - accuracy: 0.6943 - precision: 0.7094 - recall: 0.6612 - auc: 0.7969 - val_loss: 1.5017 - val_tp: 131257.1250 - val_fp: 53288.0430 - val_tn: 143754.1250 - val_fn: 66590.6953 - val_accuracy: 0.6964 - val_precision: 0.7112 - val_recall: 0.6634 - val_auc: 0.7995\n",
      "Epoch 46/100\n",
      "116/116 [==============================] - 20s 174ms/step - loss: 0.1669 - tp: 133114.3125 - fp: 53398.3711 - tn: 145804.4062 - fn: 66946.3828 - accuracy: 0.6986 - precision: 0.7137 - recall: 0.6654 - auc: 0.8022 - val_loss: 1.4036 - val_tp: 135030.4375 - val_fp: 53594.9141 - val_tn: 147829.2656 - val_fn: 67225.3906 - val_accuracy: 0.7007 - val_precision: 0.7159 - val_recall: 0.6676 - val_auc: 0.8048\n",
      "Epoch 47/100\n",
      "116/116 [==============================] - 20s 170ms/step - loss: 0.1579 - tp: 136940.3125 - fp: 53694.7422 - tn: 149833.8906 - fn: 67555.0234 - accuracy: 0.7028 - precision: 0.7183 - recall: 0.6696 - auc: 0.8074 - val_loss: 1.9511 - val_tp: 138820.2656 - val_fp: 53878.0859 - val_tn: 151928.0938 - val_fn: 67843.5625 - val_accuracy: 0.7049 - val_precision: 0.7204 - val_recall: 0.6717 - val_auc: 0.8099\n",
      "Epoch 48/100\n",
      "116/116 [==============================] - 17s 148ms/step - loss: 0.1615 - tp: 140695.8906 - fp: 53980.3516 - tn: 153949.7188 - fn: 68204.5781 - accuracy: 0.7069 - precision: 0.7227 - recall: 0.6735 - auc: 0.8123 - val_loss: 1.6413 - val_tp: 142594.5625 - val_fp: 54194.6953 - val_tn: 155993.4844 - val_fn: 68477.2578 - val_accuracy: 0.7088 - val_precision: 0.7246 - val_recall: 0.6756 - val_auc: 0.8146\n",
      "Epoch 49/100\n",
      "116/116 [==============================] - 19s 161ms/step - loss: 0.1596 - tp: 144483.0625 - fp: 54321.9492 - tn: 157982.0000 - fn: 68820.0938 - accuracy: 0.7107 - precision: 0.7268 - recall: 0.6774 - auc: 0.8169 - val_loss: 1.0856 - val_tp: 146401.4375 - val_fp: 54538.6094 - val_tn: 160031.5625 - val_fn: 69078.3906 - val_accuracy: 0.7126 - val_precision: 0.7286 - val_recall: 0.6794 - val_auc: 0.8191\n",
      "Epoch 50/100\n",
      "116/116 [==============================] - 17s 145ms/step - loss: 0.1462 - tp: 148562.3281 - fp: 54635.5000 - tn: 161817.8906 - fn: 69436.7422 - accuracy: 0.7144 - precision: 0.7311 - recall: 0.6815 - auc: 0.8213 - val_loss: 2.6242 - val_tp: 150203.7812 - val_fp: 54796.5234 - val_tn: 164155.6562 - val_fn: 69684.0469 - val_accuracy: 0.7163 - val_precision: 0.7327 - val_recall: 0.6831 - val_auc: 0.8236\n",
      "Epoch 51/100\n",
      "116/116 [==============================] - 18s 152ms/step - loss: 0.1522 - tp: 152285.0000 - fp: 54887.5859 - tn: 166020.9375 - fn: 70041.7422 - accuracy: 0.7181 - precision: 0.7351 - recall: 0.6850 - auc: 0.8257 - val_loss: 2.0601 - val_tp: 153990.5625 - val_fp: 55081.1758 - val_tn: 168253.0000 - val_fn: 70305.2578 - val_accuracy: 0.7199 - val_precision: 0.7365 - val_recall: 0.6866 - val_auc: 0.8277\n",
      "Epoch 52/100\n",
      "116/116 [==============================] - 18s 159ms/step - loss: 0.1518 - tp: 156008.8750 - fp: 55185.0508 - tn: 170214.0000 - fn: 70605.4297 - accuracy: 0.7217 - precision: 0.7387 - recall: 0.6884 - auc: 0.8298 - val_loss: 2.1621 - val_tp: 157831.7344 - val_fp: 55405.0430 - val_tn: 172311.1250 - val_fn: 70872.0859 - val_accuracy: 0.7233 - val_precision: 0.7402 - val_recall: 0.6901 - val_auc: 0.8316\n",
      "Epoch 53/100\n",
      "116/116 [==============================] - 18s 155ms/step - loss: 0.1450 - tp: 160049.8438 - fp: 55521.4570 - tn: 173982.3750 - fn: 71231.0859 - accuracy: 0.7249 - precision: 0.7424 - recall: 0.6920 - auc: 0.8335 - val_loss: 2.5034 - val_tp: 161655.5625 - val_fp: 55696.9570 - val_tn: 176401.2188 - val_fn: 71456.2578 - val_accuracy: 0.7267 - val_precision: 0.7437 - val_recall: 0.6935 - val_auc: 0.8354\n",
      "Epoch 54/100\n",
      "116/116 [==============================] - 17s 148ms/step - loss: 0.1343 - tp: 163679.2031 - fp: 55784.8867 - tn: 178337.5938 - fn: 71805.6484 - accuracy: 0.7283 - precision: 0.7458 - recall: 0.6951 - auc: 0.8373 - val_loss: 1.8006 - val_tp: 165473.2969 - val_fp: 55966.0859 - val_tn: 180514.0938 - val_fn: 72046.5234 - val_accuracy: 0.7299 - val_precision: 0.7473 - val_recall: 0.6967 - val_auc: 0.8391\n",
      "Epoch 55/100\n",
      "116/116 [==============================] - 20s 177ms/step - loss: 0.1380 - tp: 167401.3438 - fp: 56071.1133 - tn: 182521.3281 - fn: 72357.9922 - accuracy: 0.7315 - precision: 0.7491 - recall: 0.6982 - auc: 0.8408 - val_loss: 1.5784 - val_tp: 169306.7031 - val_fp: 56255.6953 - val_tn: 184606.4844 - val_fn: 72621.1328 - val_accuracy: 0.7331 - val_precision: 0.7506 - val_recall: 0.6998 - val_auc: 0.8425\n",
      "Epoch 56/100\n",
      "116/116 [==============================] - 19s 160ms/step - loss: 0.1396 - tp: 171361.8906 - fp: 56354.8867 - tn: 186495.1094 - fn: 72931.4219 - accuracy: 0.7346 - precision: 0.7525 - recall: 0.7015 - auc: 0.8442 - val_loss: 1.5428 - val_tp: 173155.1250 - val_fp: 56547.4766 - val_tn: 188696.7031 - val_fn: 73180.6953 - val_accuracy: 0.7361 - val_precision: 0.7538 - val_recall: 0.7029 - val_auc: 0.8458\n",
      "Epoch 57/100\n",
      "116/116 [==============================] - 19s 162ms/step - loss: 0.1388 - tp: 175208.5000 - fp: 56664.6797 - tn: 190607.2031 - fn: 73493.7031 - accuracy: 0.7376 - precision: 0.7556 - recall: 0.7045 - auc: 0.8475 - val_loss: 1.9087 - val_tp: 177021.6094 - val_fp: 56847.3477 - val_tn: 192778.8281 - val_fn: 73722.2188 - val_accuracy: 0.7391 - val_precision: 0.7569 - val_recall: 0.7060 - val_auc: 0.8490\n",
      "Epoch 58/100\n",
      "116/116 [==============================] - 21s 180ms/step - loss: 0.1287 - tp: 179065.0469 - fp: 56938.0938 - tn: 194729.9375 - fn: 74014.1328 - accuracy: 0.7406 - precision: 0.7587 - recall: 0.7075 - auc: 0.8507 - val_loss: 1.8316 - val_tp: 180872.1250 - val_fp: 57126.5664 - val_tn: 196881.6094 - val_fn: 74279.6953 - val_accuracy: 0.7419 - val_precision: 0.7600 - val_recall: 0.7089 - val_auc: 0.8521\n",
      "Epoch 59/100\n",
      "116/116 [==============================] - 19s 161ms/step - loss: 0.1334 - tp: 182787.7969 - fp: 57231.2656 - tn: 198924.9375 - fn: 74576.0078 - accuracy: 0.7433 - precision: 0.7616 - recall: 0.7102 - auc: 0.8536 - val_loss: 1.7757 - val_tp: 184742.0469 - val_fp: 57408.9570 - val_tn: 200981.2188 - val_fn: 74817.7812 - val_accuracy: 0.7447 - val_precision: 0.7629 - val_recall: 0.7118 - val_auc: 0.8551\n",
      "Epoch 60/100\n",
      "116/116 [==============================] - 20s 176ms/step - loss: 0.1223 - tp: 186753.8906 - fp: 57489.7930 - tn: 202969.6250 - fn: 75125.1562 - accuracy: 0.7461 - precision: 0.7646 - recall: 0.7131 - auc: 0.8565 - val_loss: 0.8915 - val_tp: 188610.1250 - val_fp: 57668.8242 - val_tn: 205103.3438 - val_fn: 75357.6953 - val_accuracy: 0.7475 - val_precision: 0.7658 - val_recall: 0.7145 - val_auc: 0.8579\n"
     ]
    },
    {
     "name": "stdout",
     "output_type": "stream",
     "text": [
      "Epoch 61/100\n",
      "116/116 [==============================] - 18s 154ms/step - loss: 0.1310 - tp: 190773.4062 - fp: 57771.6797 - tn: 206895.3438 - fn: 75677.2422 - accuracy: 0.7487 - precision: 0.7676 - recall: 0.7160 - auc: 0.8593 - val_loss: 1.1676 - val_tp: 192457.2969 - val_fp: 57940.1289 - val_tn: 209214.0469 - val_fn: 75918.5234 - val_accuracy: 0.7500 - val_precision: 0.7686 - val_recall: 0.7171 - val_auc: 0.8606\n",
      "Epoch 62/100\n",
      "116/116 [==============================] - 20s 176ms/step - loss: 0.1202 - tp: 194638.4531 - fp: 58022.2578 - tn: 211000.7188 - fn: 76236.8359 - accuracy: 0.7513 - precision: 0.7704 - recall: 0.7186 - auc: 0.8620 - val_loss: 1.1851 - val_tp: 196325.6094 - val_fp: 58176.1758 - val_tn: 213360.0000 - val_fn: 76458.2188 - val_accuracy: 0.7527 - val_precision: 0.7714 - val_recall: 0.7197 - val_auc: 0.8633\n",
      "Epoch 63/100\n",
      "116/116 [==============================] - 19s 166ms/step - loss: 0.1420 - tp: 198354.1406 - fp: 58271.8359 - tn: 215281.8594 - fn: 76779.9062 - accuracy: 0.7539 - precision: 0.7729 - recall: 0.7209 - auc: 0.8645 - val_loss: 1.4599 - val_tp: 200143.7812 - val_fp: 58425.5664 - val_tn: 217492.6094 - val_fn: 77048.0469 - val_accuracy: 0.7551 - val_precision: 0.7740 - val_recall: 0.7220 - val_auc: 0.8657\n",
      "Epoch 64/100\n",
      "116/116 [==============================] - 18s 157ms/step - loss: 0.1179 - tp: 202246.2812 - fp: 58506.0859 - tn: 219389.6875 - fn: 77355.3984 - accuracy: 0.7563 - precision: 0.7756 - recall: 0.7233 - auc: 0.8670 - val_loss: 1.2539 - val_tp: 204018.4844 - val_fp: 58674.5664 - val_tn: 221625.6094 - val_fn: 77581.3516 - val_accuracy: 0.7575 - val_precision: 0.7766 - val_recall: 0.7245 - val_auc: 0.8682\n",
      "Epoch 65/100\n",
      "116/116 [==============================] - 22s 188ms/step - loss: 0.1079 - tp: 206160.1719 - fp: 58745.3711 - tn: 223513.4844 - fn: 77871.6172 - accuracy: 0.7587 - precision: 0.7782 - recall: 0.7258 - auc: 0.8695 - val_loss: 1.6272 - val_tp: 207914.0469 - val_fp: 58874.5234 - val_tn: 225807.6562 - val_fn: 78093.7812 - val_accuracy: 0.7600 - val_precision: 0.7793 - val_recall: 0.7270 - val_auc: 0.8707\n",
      "Epoch 66/100\n",
      "116/116 [==============================] - 17s 151ms/step - loss: 0.1154 - tp: 209911.3750 - fp: 58940.4492 - tn: 227794.3438 - fn: 78418.8906 - accuracy: 0.7611 - precision: 0.7808 - recall: 0.7280 - auc: 0.8718 - val_loss: 1.6483 - val_tp: 211766.5156 - val_fp: 59098.2617 - val_tn: 229965.9062 - val_fn: 78649.3047 - val_accuracy: 0.7623 - val_precision: 0.7818 - val_recall: 0.7292 - val_auc: 0.8729\n",
      "Epoch 67/100\n",
      "116/116 [==============================] - 17s 150ms/step - loss: 0.1288 - tp: 213681.2031 - fp: 59188.2070 - tn: 232042.0156 - fn: 78947.8672 - accuracy: 0.7634 - precision: 0.7831 - recall: 0.7302 - auc: 0.8740 - val_loss: 0.9968 - val_tp: 215628.0469 - val_fp: 59368.0000 - val_tn: 234078.1719 - val_fn: 79195.7812 - val_accuracy: 0.7645 - val_precision: 0.7841 - val_recall: 0.7314 - val_auc: 0.8750\n",
      "Epoch 68/100\n",
      "116/116 [==============================] - 18s 159ms/step - loss: 0.1154 - tp: 217749.6250 - fp: 59455.6484 - tn: 235954.9688 - fn: 79473.4453 - accuracy: 0.7656 - precision: 0.7855 - recall: 0.7326 - auc: 0.8761 - val_loss: 1.6293 - val_tp: 219528.8281 - val_fp: 59616.7812 - val_tn: 238211.3906 - val_fn: 79703.0000 - val_accuracy: 0.7667 - val_precision: 0.7864 - val_recall: 0.7336 - val_auc: 0.8772\n",
      "Epoch 69/100\n",
      "116/116 [==============================] - 21s 182ms/step - loss: 0.1198 - tp: 221543.1875 - fp: 59708.5156 - tn: 240167.9688 - fn: 80013.7578 - accuracy: 0.7677 - precision: 0.7877 - recall: 0.7347 - auc: 0.8782 - val_loss: 2.0648 - val_tp: 223403.7812 - val_fp: 59881.1758 - val_tn: 242329.0000 - val_fn: 80236.0469 - val_accuracy: 0.7687 - val_precision: 0.7886 - val_recall: 0.7358 - val_auc: 0.8791\n",
      "Epoch 70/100\n",
      "116/116 [==============================] - 21s 179ms/step - loss: 0.1262 - tp: 225421.8438 - fp: 59964.5273 - tn: 244308.7969 - fn: 80550.0547 - accuracy: 0.7697 - precision: 0.7899 - recall: 0.7367 - auc: 0.8801 - val_loss: 1.3422 - val_tp: 227258.0938 - val_fp: 60136.4766 - val_tn: 246455.7031 - val_fn: 80789.7422 - val_accuracy: 0.7707 - val_precision: 0.7908 - val_recall: 0.7377 - val_auc: 0.8810\n",
      "Epoch 71/100\n",
      "116/116 [==============================] - 21s 183ms/step - loss: 0.1121 - tp: 229352.6875 - fp: 60213.3086 - tn: 248340.6875 - fn: 81107.8359 - accuracy: 0.7717 - precision: 0.7921 - recall: 0.7387 - auc: 0.8820 - val_loss: 1.7653 - val_tp: 231130.5625 - val_fp: 60373.4336 - val_tn: 250600.7344 - val_fn: 81325.2578 - val_accuracy: 0.7727 - val_precision: 0.7929 - val_recall: 0.7397 - val_auc: 0.8829\n",
      "Epoch 72/100\n",
      "116/116 [==============================] - 17s 149ms/step - loss: 0.1077 - tp: 233249.0312 - fp: 60440.0430 - tn: 252449.2812 - fn: 81665.1406 - accuracy: 0.7736 - precision: 0.7942 - recall: 0.7407 - auc: 0.8838 - val_loss: 1.7567 - val_tp: 234985.1250 - val_fp: 60589.0000 - val_tn: 254767.1719 - val_fn: 81878.6953 - val_accuracy: 0.7747 - val_precision: 0.7950 - val_recall: 0.7416 - val_auc: 0.8847\n",
      "Epoch 73/100\n",
      "116/116 [==============================] - 21s 182ms/step - loss: 0.1165 - tp: 237184.6719 - fp: 60666.8438 - tn: 256534.8906 - fn: 82191.3828 - accuracy: 0.7756 - precision: 0.7963 - recall: 0.7426 - auc: 0.8856 - val_loss: 2.4476 - val_tp: 238864.2188 - val_fp: 60810.0000 - val_tn: 258928.1719 - val_fn: 82407.6094 - val_accuracy: 0.7766 - val_precision: 0.7971 - val_recall: 0.7435 - val_auc: 0.8865\n",
      "Epoch 74/100\n",
      "116/116 [==============================] - 18s 151ms/step - loss: 0.1129 - tp: 240849.5938 - fp: 60906.3008 - tn: 260909.7188 - fn: 82703.2344 - accuracy: 0.7775 - precision: 0.7982 - recall: 0.7444 - auc: 0.8873 - val_loss: 2.6673 - val_tp: 242755.7812 - val_fp: 61076.0859 - val_tn: 263044.0938 - val_fn: 82924.0469 - val_accuracy: 0.7784 - val_precision: 0.7990 - val_recall: 0.7454 - val_auc: 0.8881\n",
      "Epoch 75/100\n",
      "116/116 [==============================] - 17s 151ms/step - loss: 0.1063 - tp: 244715.8125 - fp: 61164.6641 - tn: 265100.4688 - fn: 83197.0859 - accuracy: 0.7793 - precision: 0.8000 - recall: 0.7463 - auc: 0.8890 - val_loss: 1.7943 - val_tp: 246700.0938 - val_fp: 61357.7812 - val_tn: 267144.4062 - val_fn: 83387.7422 - val_accuracy: 0.7802 - val_precision: 0.8008 - val_recall: 0.7474 - val_auc: 0.8898\n",
      "Epoch 76/100\n",
      "116/116 [==============================] - 19s 165ms/step - loss: 0.1259 - tp: 248941.6562 - fp: 61475.7930 - tn: 268836.2188 - fn: 83696.3672 - accuracy: 0.7810 - precision: 0.8020 - recall: 0.7484 - auc: 0.8905 - val_loss: 1.9840 - val_tp: 250587.7812 - val_fp: 61641.3906 - val_tn: 271242.7812 - val_fn: 83908.0469 - val_accuracy: 0.7819 - val_precision: 0.8026 - val_recall: 0.7492 - val_auc: 0.8913\n",
      "Epoch 77/100\n",
      "116/116 [==============================] - 22s 187ms/step - loss: 0.1094 - tp: 252711.3125 - fp: 61715.8438 - tn: 273111.2188 - fn: 84207.3828 - accuracy: 0.7828 - precision: 0.8037 - recall: 0.7501 - auc: 0.8921 - val_loss: 2.0057 - val_tp: 254489.7031 - val_fp: 61865.3906 - val_tn: 275400.7812 - val_fn: 84414.1328 - val_accuracy: 0.7837 - val_precision: 0.8044 - val_recall: 0.7509 - val_auc: 0.8929\n",
      "Epoch 78/100\n",
      "116/116 [==============================] - 21s 178ms/step - loss: 0.1039 - tp: 256551.1406 - fp: 61930.8984 - tn: 277373.8750 - fn: 84702.6719 - accuracy: 0.7845 - precision: 0.8055 - recall: 0.7518 - auc: 0.8936 - val_loss: 1.8971 - val_tp: 258405.9531 - val_fp: 62110.5234 - val_tn: 279537.6562 - val_fn: 84905.8672 - val_accuracy: 0.7854 - val_precision: 0.8062 - val_recall: 0.7527 - val_auc: 0.8944\n",
      "Epoch 79/100\n",
      "116/116 [==============================] - 17s 147ms/step - loss: 0.1076 - tp: 260494.5469 - fp: 62200.8867 - tn: 281464.3438 - fn: 85158.1406 - accuracy: 0.7862 - precision: 0.8072 - recall: 0.7536 - auc: 0.8951 - val_loss: 1.4513 - val_tp: 262352.5938 - val_fp: 62391.1758 - val_tn: 283639.0000 - val_fn: 85367.2188 - val_accuracy: 0.7870 - val_precision: 0.8079 - val_recall: 0.7545 - val_auc: 0.8958\n",
      "Epoch 80/100\n",
      "116/116 [==============================] - 17s 147ms/step - loss: 0.1110 - tp: 264480.1562 - fp: 62473.1484 - tn: 285503.0938 - fn: 85674.2734 - accuracy: 0.7878 - precision: 0.8089 - recall: 0.7553 - auc: 0.8965 - val_loss: 2.1239 - val_tp: 266239.0312 - val_fp: 62616.8711 - val_tn: 287795.3125 - val_fn: 85888.7812 - val_accuracy: 0.7886 - val_precision: 0.8096 - val_recall: 0.7561 - val_auc: 0.8972\n"
     ]
    },
    {
     "name": "stdout",
     "output_type": "stream",
     "text": [
      "Epoch 81/100\n",
      "116/116 [==============================] - 19s 163ms/step - loss: 0.0994 - tp: 268530.7500 - fp: 62673.8633 - tn: 289519.0625 - fn: 86187.1719 - accuracy: 0.7894 - precision: 0.8108 - recall: 0.7570 - auc: 0.8979 - val_loss: 2.4787 - val_tp: 270124.3125 - val_fp: 62802.0430 - val_tn: 291992.1250 - val_fn: 86411.5234 - val_accuracy: 0.7902 - val_precision: 0.8114 - val_recall: 0.7576 - val_auc: 0.8986\n",
      "Epoch 82/100\n",
      "116/116 [==============================] - 19s 160ms/step - loss: 0.1145 - tp: 272159.4062 - fp: 62875.7500 - tn: 293945.8750 - fn: 86733.3203 - accuracy: 0.7910 - precision: 0.8123 - recall: 0.7583 - auc: 0.8993 - val_loss: 1.9483 - val_tp: 273994.4688 - val_fp: 63019.4766 - val_tn: 296156.6875 - val_fn: 86949.3516 - val_accuracy: 0.7917 - val_precision: 0.8130 - val_recall: 0.7591 - val_auc: 0.8999\n",
      "Epoch 83/100\n",
      "116/116 [==============================] - 21s 179ms/step - loss: 0.1122 - tp: 275932.1250 - fp: 63086.9141 - tn: 298204.4688 - fn: 87247.7812 - accuracy: 0.7925 - precision: 0.8139 - recall: 0.7598 - auc: 0.9006 - val_loss: 1.6425 - val_tp: 277885.9062 - val_fp: 63239.2188 - val_tn: 300318.9688 - val_fn: 87465.9141 - val_accuracy: 0.7932 - val_precision: 0.8146 - val_recall: 0.7606 - val_auc: 0.9012\n",
      "Epoch 84/100\n",
      "116/116 [==============================] - 17s 148ms/step - loss: 0.1097 - tp: 279807.3750 - fp: 63309.1016 - tn: 302426.7500 - fn: 87750.7734 - accuracy: 0.7940 - precision: 0.8155 - recall: 0.7613 - auc: 0.9018 - val_loss: 1.3753 - val_tp: 281784.2188 - val_fp: 63482.4336 - val_tn: 304457.7500 - val_fn: 87975.6094 - val_accuracy: 0.7947 - val_precision: 0.8161 - val_recall: 0.7621 - val_auc: 0.9024\n",
      "Epoch 85/100\n",
      "116/116 [==============================] - 19s 160ms/step - loss: 0.1093 - tp: 283969.3750 - fp: 63597.1367 - tn: 306272.8125 - fn: 88254.7188 - accuracy: 0.7954 - precision: 0.8170 - recall: 0.7629 - auc: 0.9030 - val_loss: 2.5967 - val_tp: 285732.0312 - val_fp: 63766.6094 - val_tn: 308555.5625 - val_fn: 88435.7812 - val_accuracy: 0.7961 - val_precision: 0.8175 - val_recall: 0.7636 - val_auc: 0.9036\n",
      "Epoch 86/100\n",
      "116/116 [==============================] - 18s 151ms/step - loss: 0.1051 - tp: 287793.1250 - fp: 63830.8086 - tn: 310475.7188 - fn: 88741.1172 - accuracy: 0.7968 - precision: 0.8185 - recall: 0.7643 - auc: 0.9042 - val_loss: 0.9259 - val_tp: 289619.0312 - val_fp: 63979.8242 - val_tn: 312724.3438 - val_fn: 88956.7812 - val_accuracy: 0.7975 - val_precision: 0.8191 - val_recall: 0.7650 - val_auc: 0.9048\n",
      "Epoch 87/100\n",
      "116/116 [==============================] - 21s 181ms/step - loss: 0.1016 - tp: 291744.6875 - fp: 64048.4844 - tn: 314620.0625 - fn: 89231.8984 - accuracy: 0.7982 - precision: 0.8200 - recall: 0.7658 - auc: 0.9054 - val_loss: 0.9393 - val_tp: 293528.8125 - val_fp: 64201.2188 - val_tn: 316884.9688 - val_fn: 89455.0000 - val_accuracy: 0.7989 - val_precision: 0.8205 - val_recall: 0.7664 - val_auc: 0.9059\n",
      "Epoch 88/100\n",
      "116/116 [==============================] - 19s 166ms/step - loss: 0.0976 - tp: 295559.8750 - fp: 64266.0078 - tn: 318864.2500 - fn: 89762.5234 - accuracy: 0.7996 - precision: 0.8214 - recall: 0.7670 - auc: 0.9065 - val_loss: 1.2639 - val_tp: 297440.5938 - val_fp: 64423.1758 - val_tn: 321045.0000 - val_fn: 89951.2188 - val_accuracy: 0.8003 - val_precision: 0.8220 - val_recall: 0.7678 - val_auc: 0.9070\n",
      "Epoch 89/100\n",
      "116/116 [==============================] - 18s 158ms/step - loss: 0.0978 - tp: 299420.4688 - fp: 64499.9648 - tn: 323124.6875 - fn: 90204.7656 - accuracy: 0.8010 - precision: 0.8228 - recall: 0.7685 - auc: 0.9076 - val_loss: 1.0407 - val_tp: 301396.9688 - val_fp: 64684.1758 - val_tn: 325166.0000 - val_fn: 90402.8672 - val_accuracy: 0.8016 - val_precision: 0.8233 - val_recall: 0.7693 - val_auc: 0.9081\n",
      "Epoch 90/100\n",
      "116/116 [==============================] - 19s 160ms/step - loss: 0.1124 - tp: 303385.7500 - fp: 64773.3633 - tn: 327217.7188 - fn: 90653.9219 - accuracy: 0.8023 - precision: 0.8241 - recall: 0.7699 - auc: 0.9087 - val_loss: 1.5353 - val_tp: 305321.0312 - val_fp: 64941.6094 - val_tn: 329290.5625 - val_fn: 90886.7812 - val_accuracy: 0.8029 - val_precision: 0.8246 - val_recall: 0.7706 - val_auc: 0.9091\n",
      "Epoch 91/100\n",
      "116/116 [==============================] - 20s 172ms/step - loss: 0.1006 - tp: 307446.1875 - fp: 65018.7578 - tn: 331224.2188 - fn: 91151.8594 - accuracy: 0.8035 - precision: 0.8254 - recall: 0.7713 - auc: 0.9097 - val_loss: 1.6452 - val_tp: 309240.0000 - val_fp: 65183.0859 - val_tn: 333431.0938 - val_fn: 91375.8281 - val_accuracy: 0.8041 - val_precision: 0.8259 - val_recall: 0.7719 - val_auc: 0.9101\n",
      "Epoch 92/100\n",
      "116/116 [==============================] - 19s 160ms/step - loss: 0.0940 - tp: 311470.0625 - fp: 65270.2070 - tn: 335201.4688 - fn: 91645.5000 - accuracy: 0.8047 - precision: 0.8267 - recall: 0.7727 - auc: 0.9107 - val_loss: 2.0409 - val_tp: 313207.3125 - val_fp: 65424.1758 - val_tn: 337572.0000 - val_fn: 91816.5234 - val_accuracy: 0.8054 - val_precision: 0.8272 - val_recall: 0.7733 - val_auc: 0.9112\n",
      "Epoch 93/100\n",
      "116/116 [==============================] - 17s 150ms/step - loss: 0.1071 - tp: 315251.5312 - fp: 65487.7578 - tn: 339546.2812 - fn: 92134.9375 - accuracy: 0.8060 - precision: 0.8280 - recall: 0.7738 - auc: 0.9116 - val_loss: 2.1878 - val_tp: 317081.9688 - val_fp: 65649.7422 - val_tn: 341728.4375 - val_fn: 92349.8672 - val_accuracy: 0.8066 - val_precision: 0.8285 - val_recall: 0.7744 - val_auc: 0.9121\n",
      "Epoch 94/100\n",
      "116/116 [==============================] - 17s 145ms/step - loss: 0.1041 - tp: 319186.4688 - fp: 65728.1641 - tn: 343637.3125 - fn: 92610.3594 - accuracy: 0.8072 - precision: 0.8292 - recall: 0.7751 - auc: 0.9126 - val_loss: 1.6387 - val_tp: 321006.4688 - val_fp: 65874.2188 - val_tn: 345885.9688 - val_fn: 92833.3516 - val_accuracy: 0.8078 - val_precision: 0.8297 - val_recall: 0.7757 - val_auc: 0.9130\n",
      "Epoch 95/100\n",
      "116/116 [==============================] - 19s 163ms/step - loss: 0.0982 - tp: 323231.7812 - fp: 65937.3125 - tn: 347612.5938 - fn: 93168.4766 - accuracy: 0.8083 - precision: 0.8306 - recall: 0.7763 - auc: 0.9135 - val_loss: 1.9182 - val_tp: 324902.6562 - val_fp: 66074.6953 - val_tn: 350067.4688 - val_fn: 93345.1719 - val_accuracy: 0.8089 - val_precision: 0.8310 - val_recall: 0.7768 - val_auc: 0.9140\n",
      "Epoch 96/100\n",
      "116/116 [==============================] - 19s 162ms/step - loss: 0.0961 - tp: 327036.4062 - fp: 66138.1641 - tn: 351938.9688 - fn: 93636.5625 - accuracy: 0.8095 - precision: 0.8318 - recall: 0.7774 - auc: 0.9144 - val_loss: 1.1510 - val_tp: 328833.8125 - val_fp: 66320.0469 - val_tn: 354204.1250 - val_fn: 93822.0000 - val_accuracy: 0.8101 - val_precision: 0.8322 - val_recall: 0.7780 - val_auc: 0.9148\n",
      "Epoch 97/100\n",
      "116/116 [==============================] - 21s 181ms/step - loss: 0.0959 - tp: 331013.6250 - fp: 66386.2969 - tn: 356048.7188 - fn: 94105.4766 - accuracy: 0.8106 - precision: 0.8329 - recall: 0.7786 - auc: 0.9153 - val_loss: 1.7319 - val_tp: 332766.5625 - val_fp: 66526.7812 - val_tn: 358379.4062 - val_fn: 94297.2578 - val_accuracy: 0.8112 - val_precision: 0.8334 - val_recall: 0.7792 - val_auc: 0.9157\n",
      "Epoch 98/100\n",
      "116/116 [==============================] - 18s 155ms/step - loss: 0.0887 - tp: 334843.1250 - fp: 66586.0859 - tn: 360359.1875 - fn: 94564.6484 - accuracy: 0.8118 - precision: 0.8341 - recall: 0.7798 - auc: 0.9162 - val_loss: 1.6211 - val_tp: 336682.4062 - val_fp: 66747.6484 - val_tn: 362540.5312 - val_fn: 94789.4375 - val_accuracy: 0.8123 - val_precision: 0.8345 - val_recall: 0.7803 - val_auc: 0.9166\n",
      "Epoch 99/100\n",
      "116/116 [==============================] - 19s 161ms/step - loss: 0.0888 - tp: 338790.7500 - fp: 66827.3672 - tn: 364439.0000 - fn: 95048.7656 - accuracy: 0.8129 - precision: 0.8352 - recall: 0.7809 - auc: 0.9170 - val_loss: 1.9925 - val_tp: 340639.0000 - val_fp: 66995.7812 - val_tn: 366674.4062 - val_fn: 95240.8281 - val_accuracy: 0.8134 - val_precision: 0.8356 - val_recall: 0.7815 - val_auc: 0.9174\n",
      "Epoch 100/100\n",
      "116/116 [==============================] - 18s 154ms/step - loss: 0.0931 - tp: 342688.3438 - fp: 67060.3203 - tn: 368702.5625 - fn: 95501.3047 - accuracy: 0.8140 - precision: 0.8363 - recall: 0.7821 - auc: 0.9178 - val_loss: 1.5981 - val_tp: 344569.5625 - val_fp: 67223.6094 - val_tn: 370828.5625 - val_fn: 95718.2578 - val_accuracy: 0.8145 - val_precision: 0.8368 - val_recall: 0.7826 - val_auc: 0.9182\n"
     ]
    }
   ],
   "source": [
    "# train the model for 100 epochs to give a rough idea of how good the model is\n",
    "history=model.fit(train_it, epochs=100, validation_data=val_it)"
   ]
  },
  {
   "cell_type": "markdown",
   "metadata": {},
   "source": [
    "Let's plot the first 100 epochs of training"
   ]
  },
  {
   "cell_type": "code",
   "execution_count": 58,
   "metadata": {},
   "outputs": [
    {
     "data": {
      "image/png": "[encoded data removed]",
      "text/plain": [
       "<Figure size 864x720 with 3 Axes>"
      ]
     },
     "metadata": {},
     "output_type": "display_data"
    }
   ],
   "source": [
    "plot_metrics(history)"
   ]
  },
  {
   "cell_type": "code",
   "execution_count": 27,
   "metadata": {},
   "outputs": [],
   "source": [
    "# most recent compile after 100 epochs\n",
    "train_predictions_baseline = model.predict(train_it)\n",
    "test_predictions_baseline = model.predict(test_it)"
   ]
  },
  {
   "cell_type": "markdown",
   "metadata": {},
   "source": [
    "We now load entirely new data, consisting of another 7368 data points. We will use the above model to predict on this data, as proof that the high accuracy is not a result of overfitting."
   ]
  },
  {
   "cell_type": "code",
   "execution_count": 20,
   "metadata": {},
   "outputs": [],
   "source": [
    "# totally new data \n",
    "datagen2 = ImageDataGenerator()"
   ]
  },
  {
   "cell_type": "code",
   "execution_count": 21,
   "metadata": {},
   "outputs": [
    {
     "name": "stdout",
     "output_type": "stream",
     "text": [
      "Found 7368 images belonging to 2 classes.\n"
     ]
    }
   ],
   "source": [
    "test_it2 = datagen.flow_from_directory('data/aug/segregated_data/MIXn', class_mode='binary', batch_size=64,shuffle=False)\n"
   ]
  },
  {
   "cell_type": "markdown",
   "metadata": {},
   "source": [
    "We find all metrics appear similar to the performance on the test set of the original data (negligably worse)."
   ]
  },
  {
   "cell_type": "code",
   "execution_count": 23,
   "metadata": {},
   "outputs": [
    {
     "name": "stdout",
     "output_type": "stream",
     "text": [
      "116/116 [==============================] - 17s 149ms/step\n"
     ]
    },
    {
     "data": {
      "text/plain": [
       "[1.395550012588501,\n",
       " 345879.6875,\n",
       " 68288.5078125,\n",
       " 373454.25,\n",
       " 96609.0546875,\n",
       " 0.8135145902633667,\n",
       " 0.8351198434829712,\n",
       " 0.7816720008850098,\n",
       " 0.9167481064796448]"
      ]
     },
     "execution_count": 23,
     "metadata": {},
     "output_type": "execute_result"
    }
   ],
   "source": [
    "model.evaluate(test_it2)"
   ]
  },
  {
   "cell_type": "markdown",
   "metadata": {},
   "source": [
    "(For comparison, the performance on the original test set is below)"
   ]
  },
  {
   "cell_type": "code",
   "execution_count": 22,
   "metadata": {},
   "outputs": [
    {
     "name": "stdout",
     "output_type": "stream",
     "text": [
      "24/24 [==============================] - 3s 144ms/step\n"
     ]
    },
    {
     "data": {
      "text/plain": [
       "[0.7621673345565796,\n",
       " 345131.15625,\n",
       " 67386.2890625,\n",
       " 371399.75,\n",
       " 95880.7890625,\n",
       " 0.814426600933075,\n",
       " 0.8366462588310242,\n",
       " 0.7825891375541687,\n",
       " 0.9180629253387451]"
      ]
     },
     "execution_count": 22,
     "metadata": {},
     "output_type": "execute_result"
    }
   ],
   "source": [
    "model.evaluate(test_it)"
   ]
  },
  {
   "cell_type": "code",
   "execution_count": 24,
   "metadata": {},
   "outputs": [],
   "source": [
    "# let's save this model so we can use it in the future\n",
    "model.save('blausehen2')"
   ]
  },
  {
   "cell_type": "markdown",
   "metadata": {},
   "source": [
    "Let's now plot some metrics of accuracy"
   ]
  },
  {
   "cell_type": "code",
   "execution_count": 25,
   "metadata": {},
   "outputs": [
    {
     "data": {
      "text/plain": [
       "<Figure size 864x720 with 0 Axes>"
      ]
     },
     "execution_count": 25,
     "metadata": {},
     "output_type": "execute_result"
    },
    {
     "data": {
      "image/png": "[encoded data removed]",
      "text/plain": [
       "<Figure size 864x720 with 1 Axes>"
      ]
     },
     "metadata": {
      "needs_background": "light"
     },
     "output_type": "display_data"
    },
    {
     "data": {
      "text/plain": [
       "<Figure size 864x720 with 0 Axes>"
      ]
     },
     "metadata": {},
     "output_type": "display_data"
    }
   ],
   "source": [
    "# plot acc\n",
    "acc = history.history['accuracy']\n",
    "val_acc = history.history['val_accuracy']\n",
    "\n",
    "epochs = range(1,len(acc) + 1)\n",
    "\n",
    "plt.plot(epochs,acc,'bo',label = 'Training Accuracy')\n",
    "plt.plot(epochs,val_acc,'b',label = 'Validation Accuracy')\n",
    "plt.title('Training and Validation Accuracy')\n",
    "plt.legend()\n",
    "plt.figure()"
   ]
  },
  {
   "cell_type": "code",
   "execution_count": 65,
   "metadata": {},
   "outputs": [
    {
     "name": "stdout",
     "output_type": "stream",
     "text": [
      "loss :  0.7621673345565796\n",
      "tp :  349836.15625\n",
      "fp :  69523.2890625\n",
      "tn :  377488.75\n",
      "fn :  99245.7890625\n",
      "accuracy :  0.8116615414619446\n",
      "precision :  0.8342154622077942\n",
      "recall :  0.7790029644966125\n",
      "auc :  0.9140585064888\n",
      "\n",
      "Real Videos Detected (True Negatives):  593\n",
      "Real Videos Incorrectly Detected (False Positives):  164\n",
      "Fake Videos Missed (False Negatives):  181\n",
      "Fake Videos Detected (True Positives):  550\n",
      "Total Fake Videos:  731\n"
     ]
    },
    {
     "data": {
      "image/png": "[encoded data removed]",
      "text/plain": [
       "<Figure size 396x360 with 2 Axes>"
      ]
     },
     "metadata": {},
     "output_type": "display_data"
    }
   ],
   "source": [
    "# yeah\n",
    "baseline_results = model.evaluate(test_it, verbose=0)\n",
    "for name, value in zip(model.metrics_names, baseline_results):\n",
    "  print(name, ': ', value)\n",
    "print()\n",
    "\n",
    "plot_cm(test_labels, test_predictions_baseline)"
   ]
  },
  {
   "cell_type": "code",
   "execution_count": 30,
   "metadata": {},
   "outputs": [],
   "source": [
    "mpl.rcParams['mathtext.fontset'] = 'stix'\n",
    "mpl.rcParams['font.family'] = 'STIXGeneral'\n",
    "mpl.rc('text', usetex=True)\n",
    "sns.set()"
   ]
  },
  {
   "cell_type": "code",
   "execution_count": 69,
   "metadata": {
    "scrolled": true
   },
   "outputs": [
    {
     "data": {
      "text/plain": [
       "<matplotlib.legend.Legend at 0x2b29b3569390>"
      ]
     },
     "execution_count": 69,
     "metadata": {},
     "output_type": "execute_result"
    },
    {
     "data": {
      "image/png": "[encoded data removed]",
      "text/plain": [
       "<Figure size 864x720 with 1 Axes>"
      ]
     },
     "metadata": {},
     "output_type": "display_data"
    }
   ],
   "source": [
    "#plot_roc(\"Train Baseline\", train_labels, train_predictions_baseline, color=colors[0])\n",
    "plot_roc(\"Test Baseline\", test_labels, test_predictions_baseline, color=colors[0], linestyle='--')\n",
    "plt.legend(loc='lower right')"
   ]
  },
  {
   "cell_type": "code",
   "execution_count": 94,
   "metadata": {},
   "outputs": [],
   "source": [
    "mpl.rcParams['mathtext.fontset'] = 'stix'\n",
    "mpl.rcParams['font.family'] = 'STIXGeneral'\n",
    "mpl.rc('text', usetex=True)\n",
    "sns.set()"
   ]
  },
  {
   "cell_type": "code",
   "execution_count": 70,
   "metadata": {},
   "outputs": [
    {
     "data": {
      "text/plain": [
       "<matplotlib.legend.Legend at 0x2b29b35e2a90>"
      ]
     },
     "execution_count": 70,
     "metadata": {},
     "output_type": "execute_result"
    },
    {
     "data": {
      "image/png": "[encoded data removed]",
      "text/plain": [
       "<Figure size 864x720 with 1 Axes>"
      ]
     },
     "metadata": {},
     "output_type": "display_data"
    }
   ],
   "source": [
    "plot_roc2(\"Train Baseline\", train_labels, train_predictions_baseline, color=colors[0])\n",
    "plot_roc2(\"Test Baseline\", test_labels, test_predictions_baseline, color=colors[0], linestyle='--')\n",
    "plt.legend(loc='lower right')"
   ]
  },
  {
   "cell_type": "markdown",
   "metadata": {},
   "source": [
    "Now train for many more epochs and see what happens"
   ]
  },
  {
   "cell_type": "code",
   "execution_count": 71,
   "metadata": {},
   "outputs": [
    {
     "name": "stdout",
     "output_type": "stream",
     "text": [
      "Epoch 1/15\n",
      "116/116 [==============================] - 19s 162ms/step - loss: 0.1047 - tp: 351876.7188 - fp: 69630.3125 - tn: 379457.1250 - fn: 99526.6016 - accuracy: 0.8121 - precision: 0.8348 - recall: 0.7795 - auc: 0.9145 - val_loss: 1.3873 - val_tp: 353787.4375 - val_fp: 69805.0859 - val_tn: 381612.0938 - val_fn: 99709.3906 - val_accuracy: 0.8127 - val_precision: 0.8352 - val_recall: 0.7801 - val_auc: 0.9149\n",
      "Epoch 2/15\n",
      "116/116 [==============================] - 17s 147ms/step - loss: 0.0941 - tp: 355856.9688 - fp: 69871.4844 - tn: 383599.9375 - fn: 99977.0547 - accuracy: 0.8132 - precision: 0.8359 - recall: 0.7807 - auc: 0.9153 - val_loss: 1.7929 - val_tp: 357701.1250 - val_fp: 70007.1328 - val_tn: 385792.0312 - val_fn: 100203.6953 - val_accuracy: 0.8137 - val_precision: 0.8363 - val_recall: 0.7812 - val_auc: 0.9157\n",
      "Epoch 3/15\n",
      "116/116 [==============================] - 17s 150ms/step - loss: 0.0949 - tp: 359964.9375 - fp: 70071.5469 - tn: 387550.9688 - fn: 100502.8984 - accuracy: 0.8142 - precision: 0.8371 - recall: 0.7817 - auc: 0.9161 - val_loss: 1.4914 - val_tp: 361623.0312 - val_fp: 70209.4766 - val_tn: 389971.6875 - val_fn: 100689.7812 - val_accuracy: 0.8147 - val_precision: 0.8374 - val_recall: 0.7822 - val_auc: 0.9165\n",
      "Epoch 4/15\n",
      "116/116 [==============================] - 18s 157ms/step - loss: 0.0953 - tp: 363846.3125 - fp: 70267.7734 - tn: 391758.0625 - fn: 100998.9375 - accuracy: 0.8152 - precision: 0.8381 - recall: 0.7827 - auc: 0.9169 - val_loss: 1.7340 - val_tp: 365526.8125 - val_fp: 70409.0469 - val_tn: 394154.1250 - val_fn: 101194.0000 - val_accuracy: 0.8157 - val_precision: 0.8385 - val_recall: 0.7832 - val_auc: 0.9173\n",
      "Epoch 5/15\n",
      "116/116 [==============================] - 20s 171ms/step - loss: 0.1037 - tp: 367553.5312 - fp: 70481.3828 - tn: 396157.6562 - fn: 101474.0234 - accuracy: 0.8162 - precision: 0.8391 - recall: 0.7836 - auc: 0.9177 - val_loss: 1.4253 - val_tp: 369437.4688 - val_fp: 70630.6953 - val_tn: 398314.4688 - val_fn: 101691.3516 - val_accuracy: 0.8167 - val_precision: 0.8395 - val_recall: 0.7842 - val_auc: 0.9180\n",
      "Epoch 6/15\n",
      "116/116 [==============================] - 20s 174ms/step - loss: 0.0907 - tp: 371539.1875 - fp: 70690.3047 - tn: 400269.4375 - fn: 101974.6484 - accuracy: 0.8172 - precision: 0.8401 - recall: 0.7846 - auc: 0.9184 - val_loss: 1.4574 - val_tp: 373374.1250 - val_fp: 70832.5625 - val_tn: 402494.5938 - val_fn: 102162.6953 - val_accuracy: 0.8177 - val_precision: 0.8405 - val_recall: 0.7852 - val_auc: 0.9188\n",
      "Epoch 7/15\n",
      "116/116 [==============================] - 19s 161ms/step - loss: 0.0845 - tp: 375421.0625 - fp: 70885.7812 - tn: 404535.4375 - fn: 102419.5312 - accuracy: 0.8182 - precision: 0.8412 - recall: 0.7857 - auc: 0.9192 - val_loss: 1.3882 - val_tp: 377323.8125 - val_fp: 71027.6484 - val_tn: 406681.5312 - val_fn: 102621.0000 - val_accuracy: 0.8187 - val_precision: 0.8416 - val_recall: 0.7862 - val_auc: 0.9195\n",
      "Epoch 8/15\n",
      "116/116 [==============================] - 19s 166ms/step - loss: 0.0934 - tp: 379497.3125 - fp: 71118.9453 - tn: 408538.7812 - fn: 102845.9844 - accuracy: 0.8192 - precision: 0.8422 - recall: 0.7868 - auc: 0.9199 - val_loss: 1.6824 - val_tp: 381283.6562 - val_fp: 71256.7422 - val_tn: 410834.4375 - val_fn: 103069.1719 - val_accuracy: 0.8196 - val_precision: 0.8425 - val_recall: 0.7872 - val_auc: 0.9202\n",
      "Epoch 9/15\n",
      "116/116 [==============================] - 18s 152ms/step - loss: 0.0919 - tp: 383412.0000 - fp: 71311.5938 - tn: 412752.5938 - fn: 103360.4062 - accuracy: 0.8201 - precision: 0.8432 - recall: 0.7877 - auc: 0.9206 - val_loss: 1.2263 - val_tp: 385193.9062 - val_fp: 71449.6953 - val_tn: 415023.4688 - val_fn: 103566.9141 - val_accuracy: 0.8205 - val_precision: 0.8435 - val_recall: 0.7881 - val_auc: 0.9209\n",
      "Epoch 10/15\n",
      "116/116 [==============================] - 19s 161ms/step - loss: 0.0880 - tp: 387264.5938 - fp: 71509.0781 - tn: 416958.9688 - fn: 103847.0938 - accuracy: 0.8210 - precision: 0.8441 - recall: 0.7885 - auc: 0.9213 - val_loss: 1.0181 - val_tp: 389121.5625 - val_fp: 71656.6484 - val_tn: 419198.5312 - val_fn: 104047.2578 - val_accuracy: 0.8214 - val_precision: 0.8445 - val_recall: 0.7890 - val_auc: 0.9216\n",
      "Epoch 11/15\n",
      "116/116 [==============================] - 19s 160ms/step - loss: 0.0931 - tp: 391161.3438 - fp: 71707.7578 - tn: 421222.5625 - fn: 104334.4297 - accuracy: 0.8219 - precision: 0.8451 - recall: 0.7894 - auc: 0.9220 - val_loss: 1.2265 - val_tp: 393047.8750 - val_fp: 71856.9141 - val_tn: 423380.2500 - val_fn: 104528.9531 - val_accuracy: 0.8223 - val_precision: 0.8454 - val_recall: 0.7899 - val_auc: 0.9223\n",
      "Epoch 12/15\n",
      "116/116 [==============================] - 19s 168ms/step - loss: 0.0998 - tp: 395008.2188 - fp: 71938.0859 - tn: 425439.1875 - fn: 104783.9453 - accuracy: 0.8228 - precision: 0.8459 - recall: 0.7903 - auc: 0.9226 - val_loss: 1.2208 - val_tp: 397004.6562 - val_fp: 72133.0859 - val_tn: 427486.0938 - val_fn: 104980.1719 - val_accuracy: 0.8232 - val_precision: 0.8462 - val_recall: 0.7909 - val_auc: 0.9229\n",
      "Epoch 13/15\n",
      "116/116 [==============================] - 19s 165ms/step - loss: 0.0915 - tp: 399208.6562 - fp: 72193.7734 - tn: 429282.8750 - fn: 105264.5547 - accuracy: 0.8236 - precision: 0.8469 - recall: 0.7913 - auc: 0.9232 - val_loss: 1.6264 - val_tp: 400924.5625 - val_fp: 72320.1328 - val_tn: 431681.0312 - val_fn: 105468.2578 - val_accuracy: 0.8240 - val_precision: 0.8472 - val_recall: 0.7917 - val_auc: 0.9236\n",
      "Epoch 14/15\n",
      "116/116 [==============================] - 18s 154ms/step - loss: 0.0906 - tp: 403114.5312 - fp: 72384.9141 - tn: 433471.3750 - fn: 105768.6641 - accuracy: 0.8244 - precision: 0.8478 - recall: 0.7922 - auc: 0.9239 - val_loss: 1.7529 - val_tp: 404840.6562 - val_fp: 72531.5234 - val_tn: 435851.6562 - val_fn: 105960.1719 - val_accuracy: 0.8249 - val_precision: 0.8481 - val_recall: 0.7926 - val_auc: 0.9242\n",
      "Epoch 15/15\n",
      "116/116 [==============================] - 17s 150ms/step - loss: 0.0899 - tp: 406977.5312 - fp: 72593.0703 - tn: 437760.1250 - fn: 106224.8516 - accuracy: 0.8253 - precision: 0.8486 - recall: 0.7930 - auc: 0.9245 - val_loss: 1.2951 - val_tp: 408775.5625 - val_fp: 72742.1328 - val_tn: 440023.0312 - val_fn: 106433.2578 - val_accuracy: 0.8257 - val_precision: 0.8489 - val_recall: 0.7934 - val_auc: 0.9248\n"
     ]
    }
   ],
   "source": [
    "# train the model for another 15 epochs\n",
    "history=model.fit(train_it, epochs=15, validation_data=val_it)"
   ]
  },
  {
   "cell_type": "code",
   "execution_count": 72,
   "metadata": {},
   "outputs": [
    {
     "name": "stdout",
     "output_type": "stream",
     "text": [
      "Epoch 1/20\n",
      "116/116 [==============================] - 19s 162ms/step - loss: 0.0867 - tp: 410906.0938 - fp: 72808.3984 - tn: 441922.9688 - fn: 106699.6641 - accuracy: 0.8261 - precision: 0.8495 - recall: 0.7939 - auc: 0.9251 - val_loss: 1.8278 - val_tp: 412707.7500 - val_fp: 72950.0859 - val_tn: 444197.0938 - val_fn: 106909.0859 - val_accuracy: 0.8265 - val_precision: 0.8498 - val_recall: 0.7943 - val_auc: 0.9254\n",
      "Epoch 2/20\n",
      "116/116 [==============================] - 17s 150ms/step - loss: 0.0923 - tp: 414763.7812 - fp: 73020.0312 - tn: 446205.0938 - fn: 107165.4375 - accuracy: 0.8269 - precision: 0.8503 - recall: 0.7947 - auc: 0.9257 - val_loss: 1.8987 - val_tp: 416644.0312 - val_fp: 73160.7422 - val_tn: 448368.4375 - val_fn: 107380.7812 - val_accuracy: 0.8273 - val_precision: 0.8506 - val_recall: 0.7951 - val_auc: 0.9260\n",
      "Epoch 3/20\n",
      "116/116 [==============================] - 17s 147ms/step - loss: 0.0872 - tp: 418848.8750 - fp: 73218.4922 - tn: 450224.5625 - fn: 107647.2344 - accuracy: 0.8277 - precision: 0.8512 - recall: 0.7955 - auc: 0.9263 - val_loss: 1.5312 - val_tp: 420575.5312 - val_fp: 73332.0000 - val_tn: 452579.1875 - val_fn: 107857.3047 - val_accuracy: 0.8281 - val_precision: 0.8515 - val_recall: 0.7959 - val_auc: 0.9266\n",
      "Epoch 4/20\n",
      "116/116 [==============================] - 17s 148ms/step - loss: 0.0882 - tp: 422977.1875 - fp: 73432.2656 - tn: 454176.3438 - fn: 108102.1953 - accuracy: 0.8285 - precision: 0.8521 - recall: 0.7964 - auc: 0.9269 - val_loss: 1.9605 - val_tp: 424591.3125 - val_fp: 73576.0000 - val_tn: 456717.1875 - val_fn: 108249.5234 - val_accuracy: 0.8290 - val_precision: 0.8523 - val_recall: 0.7968 - val_auc: 0.9272\n",
      "Epoch 5/20\n",
      "116/116 [==============================] - 17s 150ms/step - loss: 0.0875 - tp: 426774.3750 - fp: 73627.5547 - tn: 458558.4375 - fn: 108539.5781 - accuracy: 0.8294 - precision: 0.8529 - recall: 0.7972 - auc: 0.9275 - val_loss: 1.6419 - val_tp: 428513.4688 - val_fp: 73763.7812 - val_tn: 460911.4062 - val_fn: 108735.3516 - val_accuracy: 0.8297 - val_precision: 0.8531 - val_recall: 0.7976 - val_auc: 0.9277\n",
      "Epoch 6/20\n",
      "116/116 [==============================] - 17s 147ms/step - loss: 0.0882 - tp: 430707.9375 - fp: 73818.0469 - tn: 462776.6562 - fn: 108999.7969 - accuracy: 0.8301 - precision: 0.8537 - recall: 0.7980 - auc: 0.9280 - val_loss: 1.7630 - val_tp: 432470.8125 - val_fp: 73960.0000 - val_tn: 465097.1875 - val_fn: 109186.0000 - val_accuracy: 0.8305 - val_precision: 0.8540 - val_recall: 0.7984 - val_auc: 0.9283\n",
      "Epoch 7/20\n",
      "116/116 [==============================] - 17s 147ms/step - loss: 0.0892 - tp: 434645.5312 - fp: 74036.4922 - tn: 466975.9062 - fn: 109447.9531 - accuracy: 0.8309 - precision: 0.8545 - recall: 0.7988 - auc: 0.9286 - val_loss: 1.7357 - val_tp: 436439.5938 - val_fp: 74176.3906 - val_tn: 469262.7812 - val_fn: 109625.2188 - val_accuracy: 0.8313 - val_precision: 0.8547 - val_recall: 0.7992 - val_auc: 0.9288\n",
      "Epoch 8/20\n",
      "116/116 [==============================] - 17s 144ms/step - loss: 0.0870 - tp: 438404.4062 - fp: 74243.8047 - tn: 471369.1875 - fn: 109874.1016 - accuracy: 0.8317 - precision: 0.8552 - recall: 0.7996 - auc: 0.9291 - val_loss: 1.5191 - val_tp: 440396.2500 - val_fp: 74402.9141 - val_tn: 473418.2500 - val_fn: 110076.5625 - val_accuracy: 0.8320 - val_precision: 0.8555 - val_recall: 0.8000 - val_auc: 0.9294\n",
      "Epoch 9/20\n",
      "116/116 [==============================] - 18s 153ms/step - loss: 0.0820 - tp: 442585.2188 - fp: 74471.9297 - tn: 475289.2500 - fn: 110350.4297 - accuracy: 0.8324 - precision: 0.8560 - recall: 0.8004 - auc: 0.9296 - val_loss: 1.6218 - val_tp: 444336.3438 - val_fp: 74606.1719 - val_tn: 477597.0000 - val_fn: 110544.4766 - val_accuracy: 0.8328 - val_precision: 0.8562 - val_recall: 0.8008 - val_auc: 0.9299\n",
      "Epoch 10/20\n",
      "116/116 [==============================] - 17s 148ms/step - loss: 0.0916 - tp: 446448.2188 - fp: 74669.5859 - tn: 479526.4062 - fn: 110816.7422 - accuracy: 0.8331 - precision: 0.8567 - recall: 0.8011 - auc: 0.9301 - val_loss: 1.3820 - val_tp: 448276.4062 - val_fp: 74810.1719 - val_tn: 481775.0000 - val_fn: 111012.4375 - val_accuracy: 0.8335 - val_precision: 0.8570 - val_recall: 0.8015 - val_auc: 0.9304\n",
      "Epoch 11/20\n",
      "116/116 [==============================] - 18s 159ms/step - loss: 0.0879 - tp: 450263.2500 - fp: 74874.9922 - tn: 483811.7812 - fn: 111273.4922 - accuracy: 0.8338 - precision: 0.8574 - recall: 0.8018 - auc: 0.9306 - val_loss: 1.5826 - val_tp: 452231.5938 - val_fp: 75013.7422 - val_tn: 485953.4375 - val_fn: 111465.2188 - val_accuracy: 0.8342 - val_precision: 0.8577 - val_recall: 0.8023 - val_auc: 0.9309\n",
      "Epoch 12/20\n",
      "116/116 [==============================] - 19s 165ms/step - loss: 0.0880 - tp: 454289.9375 - fp: 75075.8906 - tn: 487916.7812 - fn: 111743.7734 - accuracy: 0.8345 - precision: 0.8582 - recall: 0.8026 - auc: 0.9311 - val_loss: 1.3789 - val_tp: 456165.5938 - val_fp: 75213.0469 - val_tn: 490136.1250 - val_fn: 111939.2188 - val_accuracy: 0.8349 - val_precision: 0.8585 - val_recall: 0.8030 - val_auc: 0.9314\n",
      "Epoch 13/20\n",
      "116/116 [==============================] - 19s 160ms/step - loss: 0.0826 - tp: 458090.6562 - fp: 75271.8984 - tn: 492253.1875 - fn: 112204.2969 - accuracy: 0.8352 - precision: 0.8589 - recall: 0.8033 - auc: 0.9316 - val_loss: 0.9473 - val_tp: 460162.4688 - val_fp: 75456.3906 - val_tn: 494274.7812 - val_fn: 112350.3516 - val_accuracy: 0.8356 - val_precision: 0.8591 - val_recall: 0.8038 - val_auc: 0.9319\n",
      "Epoch 14/20\n",
      "116/116 [==============================] - 17s 148ms/step - loss: 0.0842 - tp: 462414.6562 - fp: 75539.7344 - tn: 496095.4688 - fn: 112594.7188 - accuracy: 0.8359 - precision: 0.8596 - recall: 0.8042 - auc: 0.9321 - val_loss: 1.6198 - val_tp: 464142.0312 - val_fp: 75680.8281 - val_tn: 498432.3438 - val_fn: 112778.7812 - val_accuracy: 0.8363 - val_precision: 0.8598 - val_recall: 0.8045 - val_auc: 0.9323\n",
      "Epoch 15/20\n",
      "116/116 [==============================] - 19s 164ms/step - loss: 0.0837 - tp: 466383.3750 - fp: 75734.5625 - tn: 500213.2188 - fn: 113058.3438 - accuracy: 0.8366 - precision: 0.8603 - recall: 0.8049 - auc: 0.9326 - val_loss: 1.2599 - val_tp: 468084.0000 - val_fp: 75862.8672 - val_tn: 502632.3125 - val_fn: 113244.8281 - val_accuracy: 0.8370 - val_precision: 0.8605 - val_recall: 0.8052 - val_auc: 0.9328\n",
      "Epoch 16/20\n",
      "116/116 [==============================] - 17s 151ms/step - loss: 0.0862 - tp: 470144.5312 - fp: 75914.5625 - tn: 504601.0312 - fn: 113525.0703 - accuracy: 0.8373 - precision: 0.8610 - recall: 0.8055 - auc: 0.9330 - val_loss: 1.2830 - val_tp: 472011.4062 - val_fp: 76048.9531 - val_tn: 506828.2188 - val_fn: 113725.4375 - val_accuracy: 0.8376 - val_precision: 0.8612 - val_recall: 0.8058 - val_auc: 0.9333\n",
      "Epoch 17/20\n",
      "116/116 [==============================] - 18s 159ms/step - loss: 0.0886 - tp: 474058.8750 - fp: 76117.0781 - tn: 508801.5312 - fn: 113998.5078 - accuracy: 0.8379 - precision: 0.8616 - recall: 0.8061 - auc: 0.9335 - val_loss: 1.4097 - val_tp: 475942.6875 - val_fp: 76252.1328 - val_tn: 511007.0312 - val_fn: 114202.1328 - val_accuracy: 0.8382 - val_precision: 0.8619 - val_recall: 0.8065 - val_auc: 0.9337\n",
      "Epoch 18/20\n",
      "116/116 [==============================] - 18s 152ms/step - loss: 0.0857 - tp: 478020.9375 - fp: 76308.6328 - tn: 512971.7188 - fn: 114504.7969 - accuracy: 0.8385 - precision: 0.8623 - recall: 0.8068 - auc: 0.9339 - val_loss: 2.0804 - val_tp: 479880.5625 - val_fp: 76442.3516 - val_tn: 515198.8125 - val_fn: 114672.2578 - val_accuracy: 0.8389 - val_precision: 0.8626 - val_recall: 0.8071 - val_auc: 0.9341\n",
      "Epoch 19/20\n",
      "116/116 [==============================] - 20s 169ms/step - loss: 0.0859 - tp: 481896.3438 - fp: 76504.8984 - tn: 517245.8125 - fn: 114934.2031 - accuracy: 0.8392 - precision: 0.8630 - recall: 0.8074 - auc: 0.9344 - val_loss: 1.7500 - val_tp: 483815.0938 - val_fp: 76647.8281 - val_tn: 519375.3438 - val_fn: 115145.7422 - val_accuracy: 0.8395 - val_precision: 0.8632 - val_recall: 0.8078 - val_auc: 0.9346\n",
      "Epoch 20/20\n",
      "116/116 [==============================] - 17s 150ms/step - loss: 0.0865 - tp: 485896.7500 - fp: 76707.3984 - tn: 521356.0000 - fn: 115415.5078 - accuracy: 0.8398 - precision: 0.8637 - recall: 0.8081 - auc: 0.9348 - val_loss: 2.0300 - val_tp: 487763.0000 - val_fp: 76861.6953 - val_tn: 523543.4688 - val_fn: 115605.8281 - val_accuracy: 0.8401 - val_precision: 0.8639 - val_recall: 0.8084 - val_auc: 0.9350\n"
     ]
    }
   ],
   "source": [
    "# and now train for a further 20 epochs\n",
    "history=model.fit(train_it, epochs=20, validation_data=val_it)"
   ]
  },
  {
   "cell_type": "code",
   "execution_count": 73,
   "metadata": {},
   "outputs": [
    {
     "name": "stdout",
     "output_type": "stream",
     "text": [
      "Epoch 1/2\n",
      "116/116 [==============================] - 20s 169ms/step - loss: 0.0853 - tp: 489866.0312 - fp: 76931.7188 - tn: 525493.0625 - fn: 115837.3828 - accuracy: 0.8404 - precision: 0.8643 - recall: 0.8088 - auc: 0.9352 - val_loss: 1.6228 - val_tp: 491742.0000 - val_fp: 77109.3516 - val_tn: 527677.8125 - val_fn: 116034.8281 - val_accuracy: 0.8407 - val_precision: 0.8644 - val_recall: 0.8091 - val_auc: 0.9354\n",
      "Epoch 2/2\n",
      "116/116 [==============================] - 18s 158ms/step - loss: 0.0750 - tp: 493850.7500 - fp: 77155.9141 - tn: 529633.5625 - fn: 116318.9844 - accuracy: 0.8410 - precision: 0.8649 - recall: 0.8094 - auc: 0.9356 - val_loss: 1.6946 - val_tp: 495690.3438 - val_fp: 77297.9531 - val_tn: 531871.1875 - val_fn: 116494.4766 - val_accuracy: 0.8413 - val_precision: 0.8651 - val_recall: 0.8097 - val_auc: 0.9358\n"
     ]
    }
   ],
   "source": [
    "#make the number round haha\n",
    "history=model.fit(train_it, epochs=2, validation_data=val_it)"
   ]
  },
  {
   "cell_type": "markdown",
   "metadata": {},
   "source": [
    "The accuracy is slowly converging, we do not train any further, but pause to test the performance on both the test set an the extra data we loaded. We find exceptionally high performance."
   ]
  },
  {
   "cell_type": "code",
   "execution_count": 74,
   "metadata": {},
   "outputs": [
    {
     "name": "stdout",
     "output_type": "stream",
     "text": [
      "24/24 [==============================] - 4s 170ms/step\n"
     ]
    },
    {
     "data": {
      "text/plain": [
       "[1.1355875730514526,\n",
       " 496253.65625,\n",
       " 77473.3359375,\n",
       " 532429.6875,\n",
       " 116655.2890625,\n",
       " 0.8412440419197083,\n",
       " 0.8649649620056152,\n",
       " 0.8096694946289062,\n",
       " 0.9356709122657776]"
      ]
     },
     "execution_count": 74,
     "metadata": {},
     "output_type": "execute_result"
    }
   ],
   "source": [
    "model.evaluate(test_it)"
   ]
  },
  {
   "cell_type": "code",
   "execution_count": 76,
   "metadata": {},
   "outputs": [
    {
     "name": "stdout",
     "output_type": "stream",
     "text": [
      "116/116 [==============================] - 16s 137ms/step\n"
     ]
    },
    {
     "data": {
      "text/plain": [
       "[1.1260247230529785,\n",
       " 500411.875,\n",
       " 78371.0703125,\n",
       " 538178.6875,\n",
       " 117647.75,\n",
       " 0.8412308692932129,\n",
       " 0.8645938634872437,\n",
       " 0.8096519112586975,\n",
       " 0.9353524446487427]"
      ]
     },
     "execution_count": 76,
     "metadata": {},
     "output_type": "execute_result"
    }
   ],
   "source": [
    "model.evaluate(test_it2)"
   ]
  },
  {
   "cell_type": "code",
   "execution_count": 77,
   "metadata": {},
   "outputs": [],
   "source": [
    "# save our personal best\n",
    "model.save('blausehen22')"
   ]
  },
  {
   "cell_type": "markdown",
   "metadata": {},
   "source": [
    "In summary,"
   ]
  },
  {
   "cell_type": "code",
   "execution_count": 82,
   "metadata": {},
   "outputs": [
    {
     "name": "stdout",
     "output_type": "stream",
     "text": [
      "Model: \"sequential_1\"\n",
      "_________________________________________________________________\n",
      "Layer (type)                 Output Shape              Param #   \n",
      "=================================================================\n",
      "conv2d_1 (Conv2D)            (None, 86, 86, 75)        3675      \n",
      "_________________________________________________________________\n",
      "conv2d_2 (Conv2D)            (None, 43, 43, 50)        33800     \n",
      "_________________________________________________________________\n",
      "max_pooling2d_1 (MaxPooling2 (None, 21, 21, 50)        0         \n",
      "_________________________________________________________________\n",
      "dropout_1 (Dropout)          (None, 21, 21, 50)        0         \n",
      "_________________________________________________________________\n",
      "conv2d_3 (Conv2D)            (None, 21, 21, 25)        5025      \n",
      "_________________________________________________________________\n",
      "max_pooling2d_2 (MaxPooling2 (None, 10, 10, 25)        0         \n",
      "_________________________________________________________________\n",
      "dropout_2 (Dropout)          (None, 10, 10, 25)        0         \n",
      "_________________________________________________________________\n",
      "flatten_1 (Flatten)          (None, 2500)              0         \n",
      "_________________________________________________________________\n",
      "dense_1 (Dense)              (None, 200)               500200    \n",
      "_________________________________________________________________\n",
      "dropout_3 (Dropout)          (None, 200)               0         \n",
      "_________________________________________________________________\n",
      "dense_2 (Dense)              (None, 100)               20100     \n",
      "_________________________________________________________________\n",
      "dropout_4 (Dropout)          (None, 100)               0         \n",
      "_________________________________________________________________\n",
      "dense_3 (Dense)              (None, 1)                 101       \n",
      "=================================================================\n",
      "Total params: 562,901\n",
      "Trainable params: 562,901\n",
      "Non-trainable params: 0\n",
      "_________________________________________________________________\n"
     ]
    }
   ],
   "source": [
    "model.summary()"
   ]
  },
  {
   "cell_type": "markdown",
   "metadata": {},
   "source": [
    "Load pretrained model -- EfficientNet is highly spoken of in the literature -- and compare"
   ]
  },
  {
   "cell_type": "code",
   "execution_count": 78,
   "metadata": {},
   "outputs": [
    {
     "name": "stdout",
     "output_type": "stream",
     "text": [
      "Defaulting to user installation because normal site-packages is not writeable\n",
      "Requirement already up-to-date: efficientnet in /usr4/cs542sp/jingham/.local/lib/python3.6/site-packages (1.1.0)\n",
      "Requirement already satisfied, skipping upgrade: keras-applications<=1.0.8,>=1.0.7 in /share/pkg.7/tensorflow/2.1.0/install/lib/python3.6-gpu/site-packages (from efficientnet) (1.0.8)\n",
      "Requirement already satisfied, skipping upgrade: scikit-image in /share/pkg.7/python3/3.6.10/install/lib/python3.6/site-packages (from efficientnet) (0.17.1)\n",
      "Requirement already satisfied, skipping upgrade: numpy>=1.9.1 in /share/pkg.7/tensorflow/2.1.0/install/lib/python3.6-gpu/site-packages (from keras-applications<=1.0.8,>=1.0.7->efficientnet) (1.18.1)\n",
      "Requirement already satisfied, skipping upgrade: h5py in /share/pkg.7/tensorflow/2.1.0/install/lib/python3.6-gpu/site-packages (from keras-applications<=1.0.8,>=1.0.7->efficientnet) (2.10.0)\n",
      "Requirement already satisfied, skipping upgrade: scipy>=1.0.1 in /share/pkg.7/tensorflow/2.1.0/install/lib/python3.6-gpu/site-packages (from scikit-image->efficientnet) (1.4.1)\n",
      "Requirement already satisfied, skipping upgrade: networkx>=2.0 in /share/pkg.7/python3/3.6.10/install/lib/python3.6/site-packages (from scikit-image->efficientnet) (2.4)\n",
      "Requirement already satisfied, skipping upgrade: pillow!=7.1.0,!=7.1.1,>=4.3.0 in /share/pkg.7/python3/3.6.10/install/lib/python3.6/site-packages (from scikit-image->efficientnet) (7.1.2)\n",
      "Requirement already satisfied, skipping upgrade: imageio>=2.3.0 in /share/pkg.7/python3/3.6.10/install/lib/python3.6/site-packages (from scikit-image->efficientnet) (2.8.0)\n",
      "Requirement already satisfied, skipping upgrade: tifffile>=2019.7.26 in /share/pkg.7/python3/3.6.10/install/lib/python3.6/site-packages (from scikit-image->efficientnet) (2020.5.11)\n",
      "Requirement already satisfied, skipping upgrade: pooch>=0.5.2 in /share/pkg.7/python3/3.6.10/install/lib/python3.6/site-packages (from scikit-image->efficientnet) (1.1.0)\n",
      "Requirement already satisfied, skipping upgrade: matplotlib!=3.0.0,>=2.0.0 in /share/pkg.7/python3/3.6.10/install/lib/python3.6/site-packages (from scikit-image->efficientnet) (3.2.1)\n",
      "Requirement already satisfied, skipping upgrade: PyWavelets>=1.1.1 in /share/pkg.7/python3/3.6.10/install/lib/python3.6/site-packages (from scikit-image->efficientnet) (1.1.1)\n",
      "Requirement already satisfied, skipping upgrade: six in /share/pkg.7/tensorflow/2.1.0/install/lib/python3.6-gpu/site-packages (from h5py->keras-applications<=1.0.8,>=1.0.7->efficientnet) (1.14.0)\n",
      "Requirement already satisfied, skipping upgrade: decorator>=4.3.0 in /share/pkg.7/tensorflow/2.1.0/install/lib/python3.6-gpu/site-packages (from networkx>=2.0->scikit-image->efficientnet) (4.4.2)\n",
      "Requirement already satisfied, skipping upgrade: imagecodecs>=2020.2.18 in /share/pkg.7/python3/3.6.10/install/lib/python3.6/site-packages (from tifffile>=2019.7.26->scikit-image->efficientnet) (2020.2.18)\n",
      "Requirement already satisfied, skipping upgrade: appdirs in /share/pkg.7/python3/3.6.10/install/lib/python3.6/site-packages (from pooch>=0.5.2->scikit-image->efficientnet) (1.4.4)\n",
      "Requirement already satisfied, skipping upgrade: packaging in /share/pkg.7/python3/3.6.10/install/lib/python3.6/site-packages (from pooch>=0.5.2->scikit-image->efficientnet) (20.3)\n",
      "Requirement already satisfied, skipping upgrade: requests in /share/pkg.7/tensorflow/2.1.0/install/lib/python3.6-gpu/site-packages (from pooch>=0.5.2->scikit-image->efficientnet) (2.23.0)\n",
      "Requirement already satisfied, skipping upgrade: kiwisolver>=1.0.1 in /share/pkg.7/python3/3.6.10/install/lib/python3.6/site-packages (from matplotlib!=3.0.0,>=2.0.0->scikit-image->efficientnet) (1.2.0)\n",
      "Requirement already satisfied, skipping upgrade: cycler>=0.10 in /share/pkg.7/python3/3.6.10/install/lib/python3.6/site-packages (from matplotlib!=3.0.0,>=2.0.0->scikit-image->efficientnet) (0.10.0)\n",
      "Requirement already satisfied, skipping upgrade: python-dateutil>=2.1 in /share/pkg.7/python3/3.6.10/install/lib/python3.6/site-packages (from matplotlib!=3.0.0,>=2.0.0->scikit-image->efficientnet) (2.8.1)\n",
      "Requirement already satisfied, skipping upgrade: pyparsing!=2.0.4,!=2.1.2,!=2.1.6,>=2.0.1 in /share/pkg.7/python3/3.6.10/install/lib/python3.6/site-packages (from matplotlib!=3.0.0,>=2.0.0->scikit-image->efficientnet) (2.4.7)\n",
      "Requirement already satisfied, skipping upgrade: idna<3,>=2.5 in /share/pkg.7/tensorflow/2.1.0/install/lib/python3.6-gpu/site-packages (from requests->pooch>=0.5.2->scikit-image->efficientnet) (2.9)\n",
      "Requirement already satisfied, skipping upgrade: chardet<4,>=3.0.2 in /share/pkg.7/tensorflow/2.1.0/install/lib/python3.6-gpu/site-packages (from requests->pooch>=0.5.2->scikit-image->efficientnet) (3.0.4)\n",
      "Requirement already satisfied, skipping upgrade: certifi>=2017.4.17 in /share/pkg.7/tensorflow/2.1.0/install/lib/python3.6-gpu/site-packages (from requests->pooch>=0.5.2->scikit-image->efficientnet) (2019.11.28)\n",
      "Requirement already satisfied, skipping upgrade: urllib3!=1.25.0,!=1.25.1,<1.26,>=1.21.1 in /share/pkg.7/tensorflow/2.1.0/install/lib/python3.6-gpu/site-packages (from requests->pooch>=0.5.2->scikit-image->efficientnet) (1.25.8)\n",
      "\u001b[33mWARNING: You are using pip version 20.1; however, version 20.1.1 is available.\n",
      "You should consider upgrading via the '/share/pkg.7/python3/3.6.10/install/bin/python3.6 -m pip install --upgrade pip' command.\u001b[0m\n",
      "Note: you may need to restart the kernel to use updated packages.\n"
     ]
    }
   ],
   "source": [
    "pip install -U efficientnet"
   ]
  },
  {
   "cell_type": "code",
   "execution_count": 79,
   "metadata": {},
   "outputs": [],
   "source": [
    "import efficientnet\n",
    "import efficientnet.keras as efn "
   ]
  },
  {
   "cell_type": "code",
   "execution_count": 91,
   "metadata": {},
   "outputs": [
    {
     "name": "stdout",
     "output_type": "stream",
     "text": [
      "Downloading data from https://github.com/Callidior/keras-applications/releases/download/efficientnet/efficientnet-b0_weights_tf_dim_ordering_tf_kernels_autoaugment_notop.h5\n",
      "16809984/16804768 [==============================] - 2s 0us/step\n"
     ]
    }
   ],
   "source": [
    "efficient_net = efn.EfficientNetB0(\n",
    "    weights='imagenet',\n",
    "    input_shape=(256,256,3),\n",
    "    include_top=False,\n",
    "    pooling='max'\n",
    ")"
   ]
  },
  {
   "cell_type": "code",
   "execution_count": 92,
   "metadata": {
    "scrolled": true
   },
   "outputs": [
    {
     "name": "stdout",
     "output_type": "stream",
     "text": [
      "Model: \"sequential_5\"\n",
      "_________________________________________________________________\n",
      "Layer (type)                 Output Shape              Param #   \n",
      "=================================================================\n",
      "efficientnet-b0 (Model)      (None, 1280)              4049564   \n",
      "_________________________________________________________________\n",
      "dense_10 (Dense)             (None, 30)                38430     \n",
      "_________________________________________________________________\n",
      "dense_11 (Dense)             (None, 30)                930       \n",
      "_________________________________________________________________\n",
      "dense_12 (Dense)             (None, 1)                 31        \n",
      "=================================================================\n",
      "Total params: 4,088,955\n",
      "Trainable params: 4,046,939\n",
      "Non-trainable params: 42,016\n",
      "_________________________________________________________________\n"
     ]
    }
   ],
   "source": [
    "model2 = Sequential()\n",
    "model2.add(efficient_net)\n",
    "model2.add(Dense(units = 30, activation='relu'))\n",
    "model2.add(Dense(units = 30, activation = 'relu'))\n",
    "model2.add(Dense(units = 1, activation='sigmoid'))\n",
    "model2.summary()"
   ]
  },
  {
   "cell_type": "code",
   "execution_count": 93,
   "metadata": {},
   "outputs": [],
   "source": [
    "# compiling the sequential model\n",
    "model2.compile(loss='binary_crossentropy', metrics=METRICS, optimizer='adam')"
   ]
  },
  {
   "cell_type": "markdown",
   "metadata": {},
   "source": [
    "Ultimately the results are not impressive -- we will play around with this in the future."
   ]
  },
  {
   "cell_type": "code",
   "execution_count": null,
   "metadata": {},
   "outputs": [
    {
     "name": "stdout",
     "output_type": "stream",
     "text": [
      "Epoch 1/15\n",
      "116/116 [==============================] - 93s 800ms/step - loss: 0.8119 - tp: 502099.1875 - fp: 79769.3516 - tn: 539642.6250 - fn: 120435.1641 - accuracy: 0.8388 - precision: 0.8629 - recall: 0.8065 - auc: 0.9333 - val_loss: 0.6964 - val_tp: 502473.0312 - val_fp: 80343.6953 - val_tn: 541338.5000 - val_fn: 122208.7812 - val_accuracy: 0.8375 - val_precision: 0.8621 - val_recall: 0.8044 - val_auc: 0.9326\n",
      "Epoch 2/15\n",
      "116/116 [==============================] - 65s 558ms/step - loss: 0.7009 - tp: 502661.6562 - fp: 80654.7344 - tn: 543173.4375 - fn: 124268.0859 - accuracy: 0.8362 - precision: 0.8617 - recall: 0.8018 - auc: 0.9319 - val_loss: 0.7027 - val_tp: 502812.4375 - val_fp: 80871.0000 - val_tn: 545193.1875 - val_fn: 126277.3906 - val_accuracy: 0.8350 - val_precision: 0.8614 - val_recall: 0.7993 - val_auc: 0.9312\n",
      "Epoch 3/15\n",
      "116/116 [==============================] - 65s 559ms/step - loss: 0.6935 - tp: 503300.2812 - fp: 81393.9453 - tn: 546697.8750 - fn: 128125.4141 - accuracy: 0.8337 - precision: 0.8608 - recall: 0.7971 - auc: 0.9305 - val_loss: 0.6980 - val_tp: 503470.4375 - val_fp: 81605.8281 - val_tn: 548840.3750 - val_fn: 130027.3906 - val_accuracy: 0.8326 - val_precision: 0.8605 - val_recall: 0.7947 - val_auc: 0.9298\n",
      "Epoch 4/15\n",
      "116/116 [==============================] - 64s 555ms/step - loss: 0.7006 - tp: 503675.7812 - fp: 81751.8359 - tn: 550734.6875 - fn: 132158.3594 - accuracy: 0.8313 - precision: 0.8604 - recall: 0.7922 - auc: 0.9291 - val_loss: 0.6978 - val_tp: 504022.2188 - val_fp: 82061.6953 - val_tn: 552766.5000 - val_fn: 133883.6094 - val_accuracy: 0.8303 - val_precision: 0.8600 - val_recall: 0.7901 - val_auc: 0.9284\n",
      "Epoch 5/15\n",
      "116/116 [==============================] - 64s 554ms/step - loss: 0.6943 - tp: 504036.1875 - fp: 82084.3906 - tn: 554842.6250 - fn: 136132.9062 - accuracy: 0.8291 - precision: 0.8600 - recall: 0.7874 - auc: 0.9277 - val_loss: 0.6991 - val_tp: 504044.0000 - val_fp: 82101.0000 - val_tn: 557109.1875 - val_fn: 138269.8281 - val_accuracy: 0.8280 - val_precision: 0.8599 - val_recall: 0.7847 - val_auc: 0.9270\n",
      "Epoch 6/15\n",
      "116/116 [==============================] - 65s 562ms/step - loss: 0.6935 - tp: 504046.4062 - fp: 82101.9766 - tn: 559150.6250 - fn: 140601.9688 - accuracy: 0.8268 - precision: 0.8599 - recall: 0.7819 - auc: 0.9264 - val_loss: 0.6981 - val_tp: 504049.0000 - val_fp: 82102.0000 - val_tn: 561490.1875 - val_fn: 142672.8281 - val_accuracy: 0.8258 - val_precision: 0.8599 - val_recall: 0.7794 - val_auc: 0.9256\n",
      "Epoch 7/15\n",
      "116/116 [==============================] - 65s 561ms/step - loss: 0.6936 - tp: 504340.0000 - fp: 82498.2422 - tn: 563057.2500 - fn: 144812.6562 - accuracy: 0.8244 - precision: 0.8594 - recall: 0.7769 - auc: 0.9250 - val_loss: 0.6932 - val_tp: 505077.0000 - val_fp: 83747.0000 - val_tn: 564227.1875 - val_fn: 146052.8281 - val_accuracy: 0.8231 - val_precision: 0.8578 - val_recall: 0.7757 - val_auc: 0.9243\n",
      "Epoch 8/15\n",
      "116/116 [==============================] - 66s 567ms/step - loss: 0.6936 - tp: 506208.9688 - fp: 84939.9688 - tn: 564919.1875 - fn: 147414.2812 - accuracy: 0.8217 - precision: 0.8563 - recall: 0.7745 - auc: 0.9236 - val_loss: 0.6923 - val_tp: 507998.4062 - val_fp: 87391.6094 - val_tn: 564964.5625 - val_fn: 147539.4375 - val_accuracy: 0.8204 - val_precision: 0.8532 - val_recall: 0.7749 - val_auc: 0.9229\n",
      "Epoch 9/15\n",
      "116/116 [==============================] - 66s 567ms/step - loss: 0.6932 - tp: 509209.5312 - fp: 88511.9844 - tn: 565870.3125 - fn: 148677.8281 - accuracy: 0.8193 - precision: 0.8519 - recall: 0.7740 - auc: 0.9222 - val_loss: 0.6937 - val_tp: 509634.9688 - val_fp: 89319.9531 - val_tn: 567418.1875 - val_fn: 150310.8750 - val_accuracy: 0.8180 - val_precision: 0.8509 - val_recall: 0.7722 - val_auc: 0.9215\n",
      "Epoch 10/15\n",
      "116/116 [==============================] - 65s 560ms/step - loss: 0.6930 - tp: 510062.1875 - fp: 89765.2031 - tn: 568990.5000 - fn: 152234.8281 - accuracy: 0.8168 - precision: 0.8503 - recall: 0.7701 - auc: 0.9209 - val_loss: 0.6910 - val_tp: 511101.8750 - val_fp: 91039.5234 - val_tn: 570080.6250 - val_fn: 153251.9531 - val_accuracy: 0.8157 - val_precision: 0.8488 - val_recall: 0.7693 - val_auc: 0.9201\n",
      "Epoch 11/15\n",
      "116/116 [==============================] - 65s 561ms/step - loss: 0.6934 - tp: 511143.0938 - fp: 91054.6016 - tn: 572260.1250 - fn: 155373.1406 - accuracy: 0.8147 - precision: 0.8488 - recall: 0.7669 - auc: 0.9195 - val_loss: 0.6944 - val_tp: 511151.4375 - val_fp: 91063.0000 - val_tn: 574439.1875 - val_fn: 157610.3906 - val_accuracy: 0.8136 - val_precision: 0.8488 - val_recall: 0.7643 - val_auc: 0.9188\n",
      "Epoch 12/15\n",
      "102/116 [=========================>....] - ETA: 7s - loss: 0.6934 - tp: 512385.0312 - fp: 92472.3125 - tn: 574816.6250 - fn: 158545.8750 - accuracy: 0.8124 - precision: 0.8471 - recall: 0.7637 - auc: 0.9182"
     ]
    }
   ],
   "source": [
    "history2=model2.fit(train_it, epochs=15, validation_data=val_it)"
   ]
  },
  {
   "cell_type": "code",
   "execution_count": null,
   "metadata": {},
   "outputs": [],
   "source": [
    "plot_metrics(history2)"
   ]
  },
  {
   "cell_type": "code",
   "execution_count": null,
   "metadata": {},
   "outputs": [],
   "source": [
    "model3 = Sequential()\n",
    "model3.add(efficient_net)\n",
    "model3.add(Conv2D(50, kernel_size=(2,2), strides=(2,2), padding='same', activation='tanh'))\n",
    "model3.add(Dropout(0.25))\n",
    "model3.add(Conv2D(25, kernel_size=(2,2), strides=(1,1), padding='same', activation='tanh'))\n",
    "model3.add(Dense(units = 1, activation='sigmoid'))\n",
    "model3.summary()"
   ]
  },
  {
   "cell_type": "code",
   "execution_count": null,
   "metadata": {},
   "outputs": [],
   "source": [
    "# compiling the sequential model\n",
    "model2.compile(loss='binary_crossentropy', metrics=METRICS, optimizer='nadam')"
   ]
  },
  {
   "cell_type": "code",
   "execution_count": null,
   "metadata": {},
   "outputs": [],
   "source": [
    "history3=model3.fit(train_it, epochs=10, validation_data=val_it)"
   ]
  },
  {
   "cell_type": "code",
   "execution_count": null,
   "metadata": {},
   "outputs": [],
   "source": [
    "train_predictions_baseline2 = model2.predict(train_it, batch_size=45)\n",
    "test_predictions_baseline2 = model2.predict(train_it, batch_size=45)"
   ]
  },
  {
   "cell_type": "code",
   "execution_count": null,
   "metadata": {},
   "outputs": [],
   "source": [
    "# plot various metrics"
   ]
  },
  {
   "cell_type": "code",
   "execution_count": null,
   "metadata": {},
   "outputs": [],
   "source": [
    "baseline_results2 = model2.evaluate(test_it,\n",
    "                                  batch_size=45, verbose=0)\n",
    "for name, value in zip(model2.metrics_names, baseline_results2):\n",
    "  print(name, ': ', value)\n",
    "print()\n",
    "\n",
    "plot_cm(test_it, test_predictions_baseline2)"
   ]
  },
  {
   "cell_type": "code",
   "execution_count": null,
   "metadata": {},
   "outputs": [],
   "source": [
    "plot_roc(\"Train Baseline\", Y1, train_predictions_baseline, color=colors[0])\n",
    "plot_roc(\"Test Baseline\", Y3, test_predictions_baseline, color=colors[0], linestyle='--')\n",
    "plt.legend(loc='lower right')"
   ]
  },
  {
   "cell_type": "code",
   "execution_count": null,
   "metadata": {},
   "outputs": [],
   "source": [
    "baseline_results2 = model2.evaluate(test_it,\n",
    "                                  batch_size=45, verbose=0)\n",
    "for name, value in zip(model.metrics_names, baseline_results2):\n",
    "  print(name, ': ', value)\n",
    "print()\n",
    "\n",
    "plot_cm(Y3, test_predictions_baseline2)# plot various metrics\n",
    "\n",
    "plot_metrics(history)\n",
    "\n",
    "baseline_results = model.evaluate(test_it,\n",
    "                                  batch_size=45, verbose=0)\n",
    "for name, value in zip(model.metrics_names, baseline_results2):\n",
    "  print(name, ': ', value)\n",
    "print()\n",
    "\n",
    "plot_cm(test_it, test_predictions_baseline)\n",
    "\n",
    "plot_roc(\"Train Baseline\", Y1, train_predictions_baseline, color=colors[0])\n",
    "plot_roc(\"Test Baseline\", Y3, test_predictions_baseline, color=colors[0], linestyle='--')\n",
    "plt.legend(loc='lower right')"
   ]
  }
 ],
 "metadata": {
  "kernelspec": {
   "display_name": "Python 3",
   "language": "python",
   "name": "python3"
  },
  "language_info": {
   "codemirror_mode": {
    "name": "ipython",
    "version": 3
   },
   "file_extension": ".py",
   "mimetype": "text/x-python",
   "name": "python",
   "nbconvert_exporter": "python",
   "pygments_lexer": "ipython3",
   "version": "3.6.10"
  }
 },
 "nbformat": 4,
 "nbformat_minor": 2
}
